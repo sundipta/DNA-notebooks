{
 "cells": [
  {
   "cell_type": "markdown",
   "metadata": {},
   "source": [
    "#### Name:  Sundipta Rao\n",
    "#### Date: 5/7/16"
   ]
  },
  {
   "cell_type": "markdown",
   "metadata": {},
   "source": [
    "## Lander-Waterman Statistics \n",
    "### Plot fraction of the genome covered as a function of coverage depth."
   ]
  },
  {
   "cell_type": "code",
   "execution_count": 1,
   "metadata": {},
   "outputs": [],
   "source": [
    "import pybedtools\n",
    "import matplotlib\n",
    "import pandas as pd\n",
    "import numpy as np\n",
    "\n",
    "%matplotlib inline"
   ]
  },
  {
   "cell_type": "code",
   "execution_count": 2,
   "metadata": {
    "scrolled": true
   },
   "outputs": [],
   "source": [
    "a = pybedtools.BedTool('./ec.sorted.bam') #usingsorted bam file generated from the last homework\n",
    "b = a.genome_coverage(g='./ec.genome') #using a genome file with tab-seperated name and length of the e.coli genome\n"
   ]
  },
  {
   "cell_type": "code",
   "execution_count": 3,
   "metadata": {},
   "outputs": [
    {
     "name": "stdout",
     "output_type": "stream",
     "text": [
      "NC_000913\t0\t27936\t4639675\t0.00602111\n",
      " NC_000913\t1\t2552\t4639675\t0.000550039\n",
      " NC_000913\t2\t1849\t4639675\t0.000398519\n",
      " "
     ]
    }
   ],
   "source": [
    "b.head(3)"
   ]
  },
  {
   "cell_type": "code",
   "execution_count": 4,
   "metadata": {},
   "outputs": [],
   "source": [
    "c = b.to_dataframe()\n",
    "c.columns = ['chrom','bases','depth','name','score'] #renaming columns"
   ]
  },
  {
   "cell_type": "code",
   "execution_count": 5,
   "metadata": {},
   "outputs": [
    {
     "data": {
      "text/html": [
       "<div>\n",
       "<table border=\"1\" class=\"dataframe\">\n",
       "  <thead>\n",
       "    <tr style=\"text-align: right;\">\n",
       "      <th></th>\n",
       "      <th>chrom</th>\n",
       "      <th>bases</th>\n",
       "      <th>depth</th>\n",
       "      <th>name</th>\n",
       "      <th>score</th>\n",
       "    </tr>\n",
       "  </thead>\n",
       "  <tbody>\n",
       "    <tr>\n",
       "      <th>0</th>\n",
       "      <td>NC_000913</td>\n",
       "      <td>0</td>\n",
       "      <td>27936</td>\n",
       "      <td>4639675</td>\n",
       "      <td>0.006021</td>\n",
       "    </tr>\n",
       "    <tr>\n",
       "      <th>1</th>\n",
       "      <td>NC_000913</td>\n",
       "      <td>1</td>\n",
       "      <td>2552</td>\n",
       "      <td>4639675</td>\n",
       "      <td>0.000550</td>\n",
       "    </tr>\n",
       "    <tr>\n",
       "      <th>2</th>\n",
       "      <td>NC_000913</td>\n",
       "      <td>2</td>\n",
       "      <td>1849</td>\n",
       "      <td>4639675</td>\n",
       "      <td>0.000399</td>\n",
       "    </tr>\n",
       "    <tr>\n",
       "      <th>3</th>\n",
       "      <td>NC_000913</td>\n",
       "      <td>3</td>\n",
       "      <td>2749</td>\n",
       "      <td>4639675</td>\n",
       "      <td>0.000592</td>\n",
       "    </tr>\n",
       "  </tbody>\n",
       "</table>\n",
       "</div>"
      ],
      "text/plain": [
       "       chrom  bases  depth     name     score\n",
       "0  NC_000913      0  27936  4639675  0.006021\n",
       "1  NC_000913      1   2552  4639675  0.000550\n",
       "2  NC_000913      2   1849  4639675  0.000399\n",
       "3  NC_000913      3   2749  4639675  0.000592"
      ]
     },
     "execution_count": 5,
     "metadata": {},
     "output_type": "execute_result"
    }
   ],
   "source": [
    "c.head(4)"
   ]
  },
  {
   "cell_type": "code",
   "execution_count": 6,
   "metadata": {},
   "outputs": [],
   "source": [
    "d = c.loc[c['chrom'] == 'genome'] #choosing only the subset of the data labeled \"genome\""
   ]
  },
  {
   "cell_type": "code",
   "execution_count": 7,
   "metadata": {},
   "outputs": [
    {
     "data": {
      "text/plain": [
       "<matplotlib.axes._subplots.AxesSubplot at 0x10da1b850>"
      ]
     },
     "execution_count": 7,
     "metadata": {},
     "output_type": "execute_result"
    },
    {
     "data": {
      "image/png": "[encoded data removed]",
      "text/plain": [
       "<matplotlib.figure.Figure at 0x110a1f210>"
      ]
     },
     "metadata": {},
     "output_type": "display_data"
    }
   ],
   "source": [
    "d.plot(\"bases\",\"depth\")"
   ]
  },
  {
   "cell_type": "markdown",
   "metadata": {
    "collapsed": true
   },
   "source": [
    "## Repeat statistics of genomes \n",
    "### Compute the triple repeat and interleaved statistics of the E. coli genome "
   ]
  },
  {
   "cell_type": "code",
   "execution_count": 8,
   "metadata": {},
   "outputs": [
    {
     "name": "stdout",
     "output_type": "stream",
     "text": [
      "Genome Length = 4639675   Used 2977580 internal nodes\r\n"
     ]
    }
   ],
   "source": [
    "## Use Mummer to get statistics on the number of repeats greater than or equal to 200 bases on the forward strand only \n",
    "! repeat-match -f -n 200 ~/venv2/E.coli_K12_ATCC_700926.fasta > seq.repeats"
   ]
  },
  {
   "cell_type": "code",
   "execution_count": 34,
   "metadata": {},
   "outputs": [
    {
     "data": {
      "text/html": [
       "<div>\n",
       "<table border=\"1\" class=\"dataframe\">\n",
       "  <thead>\n",
       "    <tr style=\"text-align: right;\">\n",
       "      <th></th>\n",
       "      <th>Start1</th>\n",
       "      <th>Start2</th>\n",
       "      <th>Length</th>\n",
       "    </tr>\n",
       "  </thead>\n",
       "  <tbody>\n",
       "    <tr>\n",
       "      <th>0</th>\n",
       "      <td>1568892</td>\n",
       "      <td>3664426</td>\n",
       "      <td>479</td>\n",
       "    </tr>\n",
       "    <tr>\n",
       "      <th>1</th>\n",
       "      <td>3184118</td>\n",
       "      <td>4496204</td>\n",
       "      <td>1331</td>\n",
       "    </tr>\n",
       "    <tr>\n",
       "      <th>2</th>\n",
       "      <td>380484</td>\n",
       "      <td>4496204</td>\n",
       "      <td>1331</td>\n",
       "    </tr>\n",
       "  </tbody>\n",
       "</table>\n",
       "</div>"
      ],
      "text/plain": [
       "    Start1   Start2  Length\n",
       "0  1568892  3664426     479\n",
       "1  3184118  4496204    1331\n",
       "2   380484  4496204    1331"
      ]
     },
     "execution_count": 34,
     "metadata": {},
     "output_type": "execute_result"
    }
   ],
   "source": [
    "# Read the data from MuMmer in\n",
    "repeats = pd.read_csv('~/venv2/seq.repeats', delimiter=r\"\\s+\", skiprows=1)\n",
    "repeats.head(3)"
   ]
  },
  {
   "cell_type": "code",
   "execution_count": 10,
   "metadata": {},
   "outputs": [
    {
     "data": {
      "text/html": [
       "<div>\n",
       "<table border=\"1\" class=\"dataframe\">\n",
       "  <thead>\n",
       "    <tr style=\"text-align: right;\">\n",
       "      <th></th>\n",
       "      <th>Start1</th>\n",
       "      <th>Start2</th>\n",
       "      <th>Length</th>\n",
       "    </tr>\n",
       "  </thead>\n",
       "  <tbody>\n",
       "    <tr>\n",
       "      <th>42</th>\n",
       "      <td>270608</td>\n",
       "      <td>1468163</td>\n",
       "      <td>202</td>\n",
       "    </tr>\n",
       "    <tr>\n",
       "      <th>112</th>\n",
       "      <td>4293858</td>\n",
       "      <td>4294084</td>\n",
       "      <td>207</td>\n",
       "    </tr>\n",
       "    <tr>\n",
       "      <th>35</th>\n",
       "      <td>223761</td>\n",
       "      <td>4033544</td>\n",
       "      <td>213</td>\n",
       "    </tr>\n",
       "    <tr>\n",
       "      <th>34</th>\n",
       "      <td>4033544</td>\n",
       "      <td>4206160</td>\n",
       "      <td>213</td>\n",
       "    </tr>\n",
       "    <tr>\n",
       "      <th>56</th>\n",
       "      <td>2302595</td>\n",
       "      <td>2302821</td>\n",
       "      <td>214</td>\n",
       "    </tr>\n",
       "    <tr>\n",
       "      <th>57</th>\n",
       "      <td>731827</td>\n",
       "      <td>733698</td>\n",
       "      <td>224</td>\n",
       "    </tr>\n",
       "    <tr>\n",
       "      <th>48</th>\n",
       "      <td>2729102</td>\n",
       "      <td>3426707</td>\n",
       "      <td>224</td>\n",
       "    </tr>\n",
       "    <tr>\n",
       "      <th>144</th>\n",
       "      <td>3939685</td>\n",
       "      <td>4206024</td>\n",
       "      <td>224</td>\n",
       "    </tr>\n",
       "    <tr>\n",
       "      <th>111</th>\n",
       "      <td>226075</td>\n",
       "      <td>4035858</td>\n",
       "      <td>225</td>\n",
       "    </tr>\n",
       "    <tr>\n",
       "      <th>88</th>\n",
       "      <td>1268316</td>\n",
       "      <td>1269386</td>\n",
       "      <td>228</td>\n",
       "    </tr>\n",
       "  </tbody>\n",
       "</table>\n",
       "</div>"
      ],
      "text/plain": [
       "      Start1   Start2  Length\n",
       "42    270608  1468163     202\n",
       "112  4293858  4294084     207\n",
       "35    223761  4033544     213\n",
       "34   4033544  4206160     213\n",
       "56   2302595  2302821     214\n",
       "57    731827   733698     224\n",
       "48   2729102  3426707     224\n",
       "144  3939685  4206024     224\n",
       "111   226075  4035858     225\n",
       "88   1268316  1269386     228"
      ]
     },
     "execution_count": 10,
     "metadata": {},
     "output_type": "execute_result"
    }
   ],
   "source": [
    "# Sort the data by length of the repeat\n",
    "new = repeats.sort_values(by = 'Length')\n",
    "new.head(10)"
   ]
  },
  {
   "cell_type": "code",
   "execution_count": 11,
   "metadata": {},
   "outputs": [
    {
     "data": {
      "text/html": [
       "<div>\n",
       "<table border=\"1\" class=\"dataframe\">\n",
       "  <thead>\n",
       "    <tr style=\"text-align: right;\">\n",
       "      <th></th>\n",
       "      <th>Length</th>\n",
       "      <th>Start1</th>\n",
       "      <th>Start2</th>\n",
       "    </tr>\n",
       "  </thead>\n",
       "  <tbody>\n",
       "    <tr>\n",
       "      <th>42</th>\n",
       "      <td>202</td>\n",
       "      <td>270608</td>\n",
       "      <td>1468163</td>\n",
       "    </tr>\n",
       "    <tr>\n",
       "      <th>112</th>\n",
       "      <td>207</td>\n",
       "      <td>4293858</td>\n",
       "      <td>4294084</td>\n",
       "    </tr>\n",
       "    <tr>\n",
       "      <th>35</th>\n",
       "      <td>213</td>\n",
       "      <td>223761</td>\n",
       "      <td>4033544</td>\n",
       "    </tr>\n",
       "    <tr>\n",
       "      <th>34</th>\n",
       "      <td>213</td>\n",
       "      <td>4033544</td>\n",
       "      <td>4206160</td>\n",
       "    </tr>\n",
       "    <tr>\n",
       "      <th>56</th>\n",
       "      <td>214</td>\n",
       "      <td>2302595</td>\n",
       "      <td>2302821</td>\n",
       "    </tr>\n",
       "  </tbody>\n",
       "</table>\n",
       "</div>"
      ],
      "text/plain": [
       "     Length   Start1   Start2\n",
       "42      202   270608  1468163\n",
       "112     207  4293858  4294084\n",
       "35      213   223761  4033544\n",
       "34      213  4033544  4206160\n",
       "56      214  2302595  2302821"
      ]
     },
     "execution_count": 11,
     "metadata": {},
     "output_type": "execute_result"
    }
   ],
   "source": [
    "# rearrange the columns so Length is first (not necessary, but it's pretty)\n",
    "cols = new.columns.tolist()\n",
    "#cols\n",
    "cols = cols[-1:] + cols[:-1]\n",
    "#cols\n",
    "new = new[cols]\n",
    "new.head(5)"
   ]
  },
  {
   "cell_type": "code",
   "execution_count": 12,
   "metadata": {},
   "outputs": [],
   "source": [
    "# get the number of triple repeats\n",
    "mylist = []\n",
    "\n",
    "#create a data structure with the length associated with the starts \n",
    "for index, row in new.iterrows() :\n",
    "    new_set = set([row['Start1'],row['Start2']])\n",
    "    mylist.append([row['Length'], new_set])\n",
    "    #print mylist\n",
    "\n",
    "merged_repeats = []\n",
    "#merge the starts that are listed more than once with the same length\n",
    "for repeat_set in mylist:\n",
    "    for merged_repeat in merged_repeats:\n",
    "        if merged_repeat[0] == repeat_set[0]:\n",
    "            if merged_repeat[1] & repeat_set[1]:\n",
    "                merged_repeat[1] |= repeat_set[1]\n",
    "                break\n",
    "    else:\n",
    "        merged_repeats.append(repeat_set)\n",
    "#print merged_repeats  "
   ]
  },
  {
   "cell_type": "code",
   "execution_count": 13,
   "metadata": {},
   "outputs": [
    {
     "data": {
      "text/plain": [
       "96"
      ]
     },
     "execution_count": 13,
     "metadata": {},
     "output_type": "execute_result"
    }
   ],
   "source": [
    "len(merged_repeats)"
   ]
  },
  {
   "cell_type": "code",
   "execution_count": 14,
   "metadata": {},
   "outputs": [],
   "source": [
    "reps = 0\n",
    "i = 0\n",
    "for repeat in merged_repeats:\n",
    "    #print len(merged_repeats[i])\n",
    "    if len(repeat[1])>2:\n",
    "        reps = reps + 1"
   ]
  },
  {
   "cell_type": "code",
   "execution_count": 15,
   "metadata": {},
   "outputs": [
    {
     "data": {
      "text/plain": [
       "27"
      ]
     },
     "execution_count": 15,
     "metadata": {},
     "output_type": "execute_result"
    }
   ],
   "source": [
    "reps # number of repeats with greater than or equal to 3 repeats"
   ]
  },
  {
   "cell_type": "code",
   "execution_count": 16,
   "metadata": {},
   "outputs": [
    {
     "data": {
      "text/plain": [
       "13"
      ]
     },
     "execution_count": 16,
     "metadata": {},
     "output_type": "execute_result"
    }
   ],
   "source": [
    "triples = 0\n",
    "i = 0\n",
    "for repeat in merged_repeats:\n",
    "    #print len(merged_repeats[i])\n",
    "    if len(repeat[1])== 3:\n",
    "        triples = triples + 1\n",
    "triples #number of triple repeats"
   ]
  },
  {
   "cell_type": "markdown",
   "metadata": {},
   "source": [
    "#### There are 13 exact triple repeats and 27 repeats that have 3 or more repeats."
   ]
  },
  {
   "cell_type": "code",
   "execution_count": 17,
   "metadata": {},
   "outputs": [],
   "source": [
    "#determining the number of interleaved repeats\n",
    "def interleaved(current_row, temp): #function that tells you if things are interleaved or not\n",
    "    if (temp[0] <= current_row[0] and temp[1] <= current_row[1] and temp[1] >= current_row[0]): \n",
    "        return True\n",
    "    elif (temp[0] >= current_row[0] and temp[0] <= current_row[1] and temp[1] >= current_row[1]):\n",
    "        return True\n",
    "    else:\n",
    "        return False\n",
    "interleaves = 0\n",
    "listed_data = list([[row['Start1'], row['Start2']] for index, row in new.iterrows()])\n",
    "while listed_data: #loop compares one entry to the others and counts if they are interleaved\n",
    "    current_row = listed_data.pop()\n",
    "    for i in listed_data:\n",
    "        temp = [row['Start1'],row['Start2']]\n",
    "        if interleaved(current_row,temp):\n",
    "            interleaves = interleaves + 1\n",
    "                                                                     "
   ]
  },
  {
   "cell_type": "code",
   "execution_count": 18,
   "metadata": {},
   "outputs": [
    {
     "name": "stdout",
     "output_type": "stream",
     "text": [
      "1946\n"
     ]
    }
   ],
   "source": [
    "print interleaves"
   ]
  },
  {
   "cell_type": "markdown",
   "metadata": {},
   "source": [
    "#### This means that the 162 repeats given by MuMmer have 1946 different combinations of interleaved repeats. "
   ]
  },
  {
   "cell_type": "markdown",
   "metadata": {},
   "source": [
    "## de Bruijn graph assembly \n",
    "### Implement the de Bruijn graph algorithm for assembly. \n"
   ]
  },
  {
   "cell_type": "code",
   "execution_count": 19,
   "metadata": {
    "collapsed": true
   },
   "outputs": [],
   "source": [
    "class DeBruijnGraph:\n",
    "    ''' De Bruijn directed multigraph built from a collection of\n",
    "        strings. User supplies strings and k-mer length k.  Nodes\n",
    "        are k-1-mers.  An Edge corresponds to the k-mer that joins\n",
    "        a left k-1-mer to a right k-1-mer. '''\n",
    " \n",
    "    @staticmethod\n",
    "    def chop(st, k):\n",
    "        ''' Chop string into k-mers of given length '''\n",
    "        for i in xrange(0, len(st)-(k-1)):\n",
    "            yield (st[i:i+k], st[i:i+k-1], st[i+1:i+k])\n",
    "    \n",
    "    class Node:\n",
    "        ''' Node representing a k-1 mer.  Keep track of # of\n",
    "            incoming/outgoing edges so it's easy to check for\n",
    "            balanced, semi-balanced. '''\n",
    "        \n",
    "        def __init__(self, km1mer):\n",
    "            self.km1mer = km1mer\n",
    "            self.nin = 0\n",
    "            self.nout = 0\n",
    "        \n",
    "        def isSemiBalanced(self):\n",
    "            return abs(self.nin - self.nout) == 1\n",
    "        \n",
    "        def isBalanced(self):\n",
    "            return self.nin == self.nout\n",
    "        \n",
    "        def __hash__(self):\n",
    "            return hash(self.km1mer)\n",
    "        \n",
    "        def __str__(self):\n",
    "            return self.km1mer\n",
    "    \n",
    "    def __init__(self, strIter, k, circularize=False):\n",
    "        ''' Build de Bruijn multigraph given string iterator and k-mer\n",
    "            length k '''\n",
    "        self.G = {}     # multimap from nodes to neighbors\n",
    "        self.nodes = {} # maps k-1-mers to Node objects\n",
    "        for st in strIter:\n",
    "            if circularize:\n",
    "                st += st[:k-1]\n",
    "            for kmer, km1L, km1R in self.chop(st, k):\n",
    "                nodeL, nodeR = None, None\n",
    "                if km1L in self.nodes:\n",
    "                    nodeL = self.nodes[km1L]\n",
    "                else:\n",
    "                    nodeL = self.nodes[km1L] = self.Node(km1L)\n",
    "                if km1R in self.nodes:\n",
    "                    nodeR = self.nodes[km1R]\n",
    "                else:\n",
    "                    nodeR = self.nodes[km1R] = self.Node(km1R)\n",
    "                nodeL.nout += 1\n",
    "                nodeR.nin += 1\n",
    "                self.G.setdefault(nodeL, []).append(nodeR)\n",
    "        # Iterate over nodes; tally # balanced, semi-balanced, neither\n",
    "        self.nsemi, self.nbal, self.nneither = 0, 0, 0\n",
    "        # Keep track of head and tail nodes in the case of a graph with\n",
    "        # Eularian walk (not cycle)\n",
    "        self.head, self.tail = None, None\n",
    "        for node in self.nodes.itervalues():\n",
    "            if node.isBalanced():\n",
    "                self.nbal += 1\n",
    "            elif node.isSemiBalanced():\n",
    "                if node.nin == node.nout + 1:\n",
    "                    self.tail = node\n",
    "                if node.nin == node.nout - 1:\n",
    "                    self.head = node\n",
    "                self.nsemi += 1\n",
    "            else:\n",
    "                self.nneither += 1\n",
    "    \n",
    "    def nnodes(self):\n",
    "        ''' Return # nodes '''\n",
    "        return len(self.nodes)\n",
    "    \n",
    "    def nedges(self):\n",
    "        ''' Return # edges '''\n",
    "        return len(self.G)\n",
    "    \n",
    "    def hasEulerianWalk(self):\n",
    "        ''' Return true iff graph has Eulerian walk. '''\n",
    "        return self.nneither == 0 and self.nsemi == 2\n",
    "    \n",
    "    def hasEulerianCycle(self):\n",
    "        ''' Return true iff graph has Eulerian cycle. '''\n",
    "        return self.nneither == 0 and self.nsemi == 0\n",
    "    \n",
    "    def isEulerian(self):\n",
    "        ''' Return true iff graph has Eulerian walk or cycle '''\n",
    "        # technically, if it has an Eulerian walk\n",
    "        return self.hasEulerianWalk() or self.hasEulerianCycle()\n",
    "    \n",
    "    def eulerianWalkOrCycle(self):\n",
    "        ''' Find and return sequence of nodes (represented by\n",
    "            their k-1-mer labels) corresponding to Eulerian walk\n",
    "            or cycle '''\n",
    "        assert self.isEulerian()\n",
    "        g = self.G\n",
    "        if self.hasEulerianWalk():\n",
    "            g = g.copy()\n",
    "            g.setdefault(self.tail, []).append(self.head)\n",
    "        # graph g has an Eulerian cycle\n",
    "        tour = []\n",
    "        src = g.iterkeys().next() # pick arbitrary starting node\n",
    "        \n",
    "        def __visit(n):\n",
    "            while len(g[n]) > 0:\n",
    "                dst = g[n].pop()\n",
    "                __visit(dst)\n",
    "            tour.append(n)\n",
    "        \n",
    "        __visit(src)\n",
    "        tour = tour[::-1][:-1] # reverse and then take all but last node\n",
    "            \n",
    "        if self.hasEulerianWalk():\n",
    "            # Adjust node list so that it starts at head and ends at tail\n",
    "            sti = tour.index(self.head)\n",
    "            tour = tour[sti:] + tour[:sti]\n",
    "        \n",
    "        # Return node list\n",
    "        return map(str, tour)"
   ]
  },
  {
   "cell_type": "code",
   "execution_count": 20,
   "metadata": {},
   "outputs": [],
   "source": [
    "class DeBruijnGraph2(DeBruijnGraph):\n",
    "    def to_dot(self, weights=False):\n",
    "        \"\"\" Return string with graphviz representation.  If 'weights'\n",
    "            is true, label edges corresponding to distinct k-1-mers\n",
    "            with weights, instead of drawing separate edges for\n",
    "            k-1-mer copies. \"\"\"\n",
    "        dot_str = [\"digraph \\\"DeBruijn graph\\\" {\\n\",\n",
    "                   \"  bgcolor=\\\"transparent\\\";\\n\"]\n",
    "        for node in self.G.iterkeys():\n",
    "            lab = node.km1mer\n",
    "            dot_str.append(\"  %s [label=\\\"%s\\\"] ;\\n\" % (lab, lab))\n",
    "        for src, dsts in self.G.iteritems():\n",
    "            srclab = src.km1mer\n",
    "            if weights:\n",
    "                weightmap = {}\n",
    "                if weights:\n",
    "                    for dst in dsts:\n",
    "                        weightmap[dst] = weightmap.get(dst, 0) + 1\n",
    "                for dst, v in weightmap.iteritems():\n",
    "                    dstlab = dst.km1mer\n",
    "                    dot_str.append(\"  %s -> %s [label=\\\"%d\\\"] ;\\n\" % (srclab, dstlab, v))\n",
    "            else:\n",
    "                for dst in dsts:\n",
    "                    srclab, dstlab = src.km1mer, dst.km1mer\n",
    "                    dot_str.append(\"  %s -> %s [label=\\\"\\\"] ;\\n\" % (srclab, dstlab))\n",
    "        dot_str.append(\"}\\n\")\n",
    "        return ''.join(dot_str)"
   ]
  },
  {
   "cell_type": "code",
   "execution_count": 101,
   "metadata": {},
   "outputs": [
    {
     "name": "stdout",
     "output_type": "stream",
     "text": [
      "Installed gvmagic.py. To use it, type:\n",
      "  %load_ext gvmagic\n"
     ]
    },
    {
     "name": "stderr",
     "output_type": "stream",
     "text": [
      "/Users/Sundipta/venv2/lib/python2.7/site-packages/IPython/core/magics/extension.py:47: UserWarning: %install_ext` is deprecated, please distribute your extension(s)as a python packages.\n",
      "  \"as a python packages.\", UserWarning)\n"
     ]
    }
   ],
   "source": [
    "# %install_ext https://raw.github.com/cjdrake/ipython-magic/master/gvmagic.py"
   ]
  },
  {
   "cell_type": "code",
   "execution_count": 21,
   "metadata": {},
   "outputs": [],
   "source": [
    "%load_ext gvmagic"
   ]
  },
  {
   "cell_type": "code",
   "execution_count": 22,
   "metadata": {},
   "outputs": [
    {
     "data": {
      "image/svg+xml": [
       "<?xml version=\"1.0\" encoding=\"UTF-8\" standalone=\"no\"?>\n",
       "<!DOCTYPE svg PUBLIC \"-//W3C//DTD SVG 1.1//EN\"\n",
       " \"http://www.w3.org/Graphics/SVG/1.1/DTD/svg11.dtd\">\n",
       "<!-- Generated by graphviz version 2.36.0 (20140111.2315)\n",
       " -->\n",
       "<!-- Title: DeBruijn graph Pages: 1 -->\n",
       "<svg width=\"207pt\" height=\"980pt\"\n",
       " viewBox=\"0.00 0.00 207.00 980.00\" xmlns=\"http://www.w3.org/2000/svg\" xmlns:xlink=\"http://www.w3.org/1999/xlink\">\n",
       "<g id=\"graph0\" class=\"graph\" transform=\"scale(1 1) rotate(0) translate(4 976)\">\n",
       "<title>DeBruijn graph</title>\n",
       "<!-- LLY -->\n",
       "<g id=\"node1\" class=\"node\"><title>LLY</title>\n",
       "<ellipse fill=\"none\" stroke=\"black\" cx=\"30\" cy=\"-882\" rx=\"28.3955\" ry=\"18\"/>\n",
       "<text text-anchor=\"middle\" x=\"30\" y=\"-878.3\" font-family=\"Times,serif\" font-size=\"14.00\">LLY</text>\n",
       "</g>\n",
       "<!-- LYA -->\n",
       "<g id=\"node16\" class=\"node\"><title>LYA</title>\n",
       "<ellipse fill=\"none\" stroke=\"black\" cx=\"29\" cy=\"-810\" rx=\"29.3722\" ry=\"18\"/>\n",
       "<text text-anchor=\"middle\" x=\"29\" y=\"-806.3\" font-family=\"Times,serif\" font-size=\"14.00\">LYA</text>\n",
       "</g>\n",
       "<!-- LLY&#45;&gt;LYA -->\n",
       "<g id=\"edge1\" class=\"edge\"><title>LLY&#45;&gt;LYA</title>\n",
       "<path fill=\"none\" stroke=\"black\" d=\"M29.7528,-863.697C29.6426,-855.983 29.5102,-846.712 29.3873,-838.112\"/>\n",
       "<polygon fill=\"black\" stroke=\"black\" points=\"32.8869,-838.053 29.2443,-828.104 25.8876,-838.153 32.8869,-838.053\"/>\n",
       "</g>\n",
       "<!-- OHO -->\n",
       "<g id=\"node2\" class=\"node\"><title>OHO</title>\n",
       "<ellipse fill=\"none\" stroke=\"black\" cx=\"102\" cy=\"-738\" rx=\"30.3206\" ry=\"18\"/>\n",
       "<text text-anchor=\"middle\" x=\"102\" y=\"-734.3\" font-family=\"Times,serif\" font-size=\"14.00\">OHO</text>\n",
       "</g>\n",
       "<!-- HOW -->\n",
       "<g id=\"node9\" class=\"node\"><title>HOW</title>\n",
       "<ellipse fill=\"none\" stroke=\"black\" cx=\"102\" cy=\"-666\" rx=\"32.2457\" ry=\"18\"/>\n",
       "<text text-anchor=\"middle\" x=\"102\" y=\"-662.3\" font-family=\"Times,serif\" font-size=\"14.00\">HOW</text>\n",
       "</g>\n",
       "<!-- OHO&#45;&gt;HOW -->\n",
       "<g id=\"edge2\" class=\"edge\"><title>OHO&#45;&gt;HOW</title>\n",
       "<path fill=\"none\" stroke=\"black\" d=\"M102,-719.697C102,-711.983 102,-702.712 102,-694.112\"/>\n",
       "<polygon fill=\"black\" stroke=\"black\" points=\"105.5,-694.104 102,-684.104 98.5001,-694.104 105.5,-694.104\"/>\n",
       "</g>\n",
       "<!-- ELL -->\n",
       "<g id=\"node3\" class=\"node\"><title>ELL</title>\n",
       "<ellipse fill=\"none\" stroke=\"black\" cx=\"138\" cy=\"-954\" rx=\"26.949\" ry=\"18\"/>\n",
       "<text text-anchor=\"middle\" x=\"138\" y=\"-950.3\" font-family=\"Times,serif\" font-size=\"14.00\">ELL</text>\n",
       "</g>\n",
       "<!-- ELL&#45;&gt;LLY -->\n",
       "<g id=\"edge4\" class=\"edge\"><title>ELL&#45;&gt;LLY</title>\n",
       "<path fill=\"none\" stroke=\"black\" d=\"M119.188,-940.807C102.207,-929.801 77.0052,-913.466 57.7183,-900.966\"/>\n",
       "<polygon fill=\"black\" stroke=\"black\" points=\"59.619,-898.027 49.3238,-895.525 55.8117,-903.901 59.619,-898.027\"/>\n",
       "</g>\n",
       "<!-- LLO -->\n",
       "<g id=\"node11\" class=\"node\"><title>LLO</title>\n",
       "<ellipse fill=\"none\" stroke=\"black\" cx=\"105\" cy=\"-882\" rx=\"28.3955\" ry=\"18\"/>\n",
       "<text text-anchor=\"middle\" x=\"105\" y=\"-878.3\" font-family=\"Times,serif\" font-size=\"14.00\">LLO</text>\n",
       "</g>\n",
       "<!-- ELL&#45;&gt;LLO -->\n",
       "<g id=\"edge3\" class=\"edge\"><title>ELL&#45;&gt;LLO</title>\n",
       "<path fill=\"none\" stroke=\"black\" d=\"M130.179,-936.411C126.275,-928.129 121.465,-917.925 117.098,-908.662\"/>\n",
       "<polygon fill=\"black\" stroke=\"black\" points=\"120.194,-907.023 112.764,-899.47 113.863,-910.008 120.194,-907.023\"/>\n",
       "</g>\n",
       "<!-- UHE -->\n",
       "<g id=\"node4\" class=\"node\"><title>UHE</title>\n",
       "<ellipse fill=\"none\" stroke=\"black\" cx=\"104\" cy=\"-90\" rx=\"29.3722\" ry=\"18\"/>\n",
       "<text text-anchor=\"middle\" x=\"104\" y=\"-86.3\" font-family=\"Times,serif\" font-size=\"14.00\">UHE</text>\n",
       "</g>\n",
       "<!-- HEL -->\n",
       "<g id=\"node13\" class=\"node\"><title>HEL</title>\n",
       "<ellipse fill=\"none\" stroke=\"black\" cx=\"171\" cy=\"-18\" rx=\"28.3955\" ry=\"18\"/>\n",
       "<text text-anchor=\"middle\" x=\"171\" y=\"-14.3\" font-family=\"Times,serif\" font-size=\"14.00\">HEL</text>\n",
       "</g>\n",
       "<!-- UHE&#45;&gt;HEL -->\n",
       "<g id=\"edge5\" class=\"edge\"><title>UHE&#45;&gt;HEL</title>\n",
       "<path fill=\"none\" stroke=\"black\" d=\"M118.209,-74.1548C127.358,-64.5957 139.42,-51.994 149.704,-41.2493\"/>\n",
       "<polygon fill=\"black\" stroke=\"black\" points=\"152.425,-43.4681 156.812,-33.8238 147.368,-38.6279 152.425,-43.4681\"/>\n",
       "</g>\n",
       "<!-- OUH -->\n",
       "<g id=\"node5\" class=\"node\"><title>OUH</title>\n",
       "<ellipse fill=\"none\" stroke=\"black\" cx=\"103\" cy=\"-162\" rx=\"30.3206\" ry=\"18\"/>\n",
       "<text text-anchor=\"middle\" x=\"103\" y=\"-158.3\" font-family=\"Times,serif\" font-size=\"14.00\">OUH</text>\n",
       "</g>\n",
       "<!-- OUH&#45;&gt;UHE -->\n",
       "<g id=\"edge6\" class=\"edge\"><title>OUH&#45;&gt;UHE</title>\n",
       "<path fill=\"none\" stroke=\"black\" d=\"M103.247,-143.697C103.357,-135.983 103.49,-126.712 103.613,-118.112\"/>\n",
       "<polygon fill=\"black\" stroke=\"black\" points=\"107.112,-118.153 103.756,-108.104 100.113,-118.053 107.112,-118.153\"/>\n",
       "</g>\n",
       "<!-- LOH -->\n",
       "<g id=\"node6\" class=\"node\"><title>LOH</title>\n",
       "<ellipse fill=\"none\" stroke=\"black\" cx=\"105\" cy=\"-810\" rx=\"29.3722\" ry=\"18\"/>\n",
       "<text text-anchor=\"middle\" x=\"105\" y=\"-806.3\" font-family=\"Times,serif\" font-size=\"14.00\">LOH</text>\n",
       "</g>\n",
       "<!-- LOH&#45;&gt;OHO -->\n",
       "<g id=\"edge7\" class=\"edge\"><title>LOH&#45;&gt;OHO</title>\n",
       "<path fill=\"none\" stroke=\"black\" d=\"M104.258,-791.697C103.928,-783.983 103.531,-774.712 103.162,-766.112\"/>\n",
       "<polygon fill=\"black\" stroke=\"black\" points=\"106.658,-765.945 102.733,-756.104 99.6645,-766.245 106.658,-765.945\"/>\n",
       "</g>\n",
       "<!-- OWA -->\n",
       "<g id=\"node7\" class=\"node\"><title>OWA</title>\n",
       "<ellipse fill=\"none\" stroke=\"black\" cx=\"102\" cy=\"-594\" rx=\"32.2457\" ry=\"18\"/>\n",
       "<text text-anchor=\"middle\" x=\"102\" y=\"-590.3\" font-family=\"Times,serif\" font-size=\"14.00\">OWA</text>\n",
       "</g>\n",
       "<!-- WAR -->\n",
       "<g id=\"node15\" class=\"node\"><title>WAR</title>\n",
       "<ellipse fill=\"none\" stroke=\"black\" cx=\"102\" cy=\"-522\" rx=\"31.2735\" ry=\"18\"/>\n",
       "<text text-anchor=\"middle\" x=\"102\" y=\"-518.3\" font-family=\"Times,serif\" font-size=\"14.00\">WAR</text>\n",
       "</g>\n",
       "<!-- OWA&#45;&gt;WAR -->\n",
       "<g id=\"edge8\" class=\"edge\"><title>OWA&#45;&gt;WAR</title>\n",
       "<path fill=\"none\" stroke=\"black\" d=\"M102,-575.697C102,-567.983 102,-558.712 102,-550.112\"/>\n",
       "<polygon fill=\"black\" stroke=\"black\" points=\"105.5,-550.104 102,-540.104 98.5001,-550.104 105.5,-550.104\"/>\n",
       "</g>\n",
       "<!-- EYO -->\n",
       "<g id=\"node8\" class=\"node\"><title>EYO</title>\n",
       "<ellipse fill=\"none\" stroke=\"black\" cx=\"103\" cy=\"-306\" rx=\"29.3722\" ry=\"18\"/>\n",
       "<text text-anchor=\"middle\" x=\"103\" y=\"-302.3\" font-family=\"Times,serif\" font-size=\"14.00\">EYO</text>\n",
       "</g>\n",
       "<!-- YOU -->\n",
       "<g id=\"node14\" class=\"node\"><title>YOU</title>\n",
       "<ellipse fill=\"none\" stroke=\"black\" cx=\"103\" cy=\"-234\" rx=\"30.3206\" ry=\"18\"/>\n",
       "<text text-anchor=\"middle\" x=\"103\" y=\"-230.3\" font-family=\"Times,serif\" font-size=\"14.00\">YOU</text>\n",
       "</g>\n",
       "<!-- EYO&#45;&gt;YOU -->\n",
       "<g id=\"edge9\" class=\"edge\"><title>EYO&#45;&gt;YOU</title>\n",
       "<path fill=\"none\" stroke=\"black\" d=\"M103,-287.697C103,-279.983 103,-270.712 103,-262.112\"/>\n",
       "<polygon fill=\"black\" stroke=\"black\" points=\"106.5,-262.104 103,-252.104 99.5001,-262.104 106.5,-262.104\"/>\n",
       "</g>\n",
       "<!-- HOW&#45;&gt;OWA -->\n",
       "<g id=\"edge10\" class=\"edge\"><title>HOW&#45;&gt;OWA</title>\n",
       "<path fill=\"none\" stroke=\"black\" d=\"M102,-647.697C102,-639.983 102,-630.712 102,-622.112\"/>\n",
       "<polygon fill=\"black\" stroke=\"black\" points=\"105.5,-622.104 102,-612.104 98.5001,-622.104 105.5,-622.104\"/>\n",
       "</g>\n",
       "<!-- REY -->\n",
       "<g id=\"node10\" class=\"node\"><title>REY</title>\n",
       "<ellipse fill=\"none\" stroke=\"black\" cx=\"103\" cy=\"-378\" rx=\"29.3722\" ry=\"18\"/>\n",
       "<text text-anchor=\"middle\" x=\"103\" y=\"-374.3\" font-family=\"Times,serif\" font-size=\"14.00\">REY</text>\n",
       "</g>\n",
       "<!-- REY&#45;&gt;EYO -->\n",
       "<g id=\"edge11\" class=\"edge\"><title>REY&#45;&gt;EYO</title>\n",
       "<path fill=\"none\" stroke=\"black\" d=\"M103,-359.697C103,-351.983 103,-342.712 103,-334.112\"/>\n",
       "<polygon fill=\"black\" stroke=\"black\" points=\"106.5,-334.104 103,-324.104 99.5001,-334.104 106.5,-334.104\"/>\n",
       "</g>\n",
       "<!-- LLO&#45;&gt;LOH -->\n",
       "<g id=\"edge12\" class=\"edge\"><title>LLO&#45;&gt;LOH</title>\n",
       "<path fill=\"none\" stroke=\"black\" d=\"M105,-863.697C105,-855.983 105,-846.712 105,-838.112\"/>\n",
       "<polygon fill=\"black\" stroke=\"black\" points=\"108.5,-838.104 105,-828.104 101.5,-838.104 108.5,-838.104\"/>\n",
       "</g>\n",
       "<!-- ARE -->\n",
       "<g id=\"node12\" class=\"node\"><title>ARE</title>\n",
       "<ellipse fill=\"none\" stroke=\"black\" cx=\"103\" cy=\"-450\" rx=\"29.3722\" ry=\"18\"/>\n",
       "<text text-anchor=\"middle\" x=\"103\" y=\"-446.3\" font-family=\"Times,serif\" font-size=\"14.00\">ARE</text>\n",
       "</g>\n",
       "<!-- ARE&#45;&gt;REY -->\n",
       "<g id=\"edge13\" class=\"edge\"><title>ARE&#45;&gt;REY</title>\n",
       "<path fill=\"none\" stroke=\"black\" d=\"M103,-431.697C103,-423.983 103,-414.712 103,-406.112\"/>\n",
       "<polygon fill=\"black\" stroke=\"black\" points=\"106.5,-406.104 103,-396.104 99.5001,-406.104 106.5,-406.104\"/>\n",
       "</g>\n",
       "<!-- HEL&#45;&gt;ELL -->\n",
       "<g id=\"edge14\" class=\"edge\"><title>HEL&#45;&gt;ELL</title>\n",
       "<path fill=\"none\" stroke=\"black\" d=\"M165.288,-36.0493C162,-62.7084 162,-115.885 162,-161 162,-811 162,-811 162,-811 162,-851.846 148.886,-897.625 141.446,-925.885\"/>\n",
       "<polygon fill=\"black\" stroke=\"black\" points=\"137.995,-925.256 138.912,-935.811 144.777,-926.988 137.995,-925.256\"/>\n",
       "</g>\n",
       "<!-- HEL&#45;&gt;ELL -->\n",
       "<g id=\"edge15\" class=\"edge\"><title>HEL&#45;&gt;ELL</title>\n",
       "<path fill=\"none\" stroke=\"black\" d=\"M176.712,-36.0493C180,-62.7084 180,-115.885 180,-161 180,-811 180,-811 180,-811 180,-852.927 166.182,-900.053 153.99,-928.092\"/>\n",
       "<polygon fill=\"black\" stroke=\"black\" points=\"150.651,-926.972 149.601,-937.514 156.996,-929.928 150.651,-926.972\"/>\n",
       "</g>\n",
       "<!-- YOU&#45;&gt;OUH -->\n",
       "<g id=\"edge16\" class=\"edge\"><title>YOU&#45;&gt;OUH</title>\n",
       "<path fill=\"none\" stroke=\"black\" d=\"M103,-215.697C103,-207.983 103,-198.712 103,-190.112\"/>\n",
       "<polygon fill=\"black\" stroke=\"black\" points=\"106.5,-190.104 103,-180.104 99.5001,-190.104 106.5,-190.104\"/>\n",
       "</g>\n",
       "<!-- WAR&#45;&gt;ARE -->\n",
       "<g id=\"edge17\" class=\"edge\"><title>WAR&#45;&gt;ARE</title>\n",
       "<path fill=\"none\" stroke=\"black\" d=\"M102.247,-503.697C102.357,-495.983 102.49,-486.712 102.613,-478.112\"/>\n",
       "<polygon fill=\"black\" stroke=\"black\" points=\"106.112,-478.153 102.756,-468.104 99.1131,-478.053 106.112,-478.153\"/>\n",
       "</g>\n",
       "</g>\n",
       "</svg>\n"
      ]
     },
     "metadata": {},
     "output_type": "display_data"
    }
   ],
   "source": [
    "%dotobj DeBruijnGraph2(['HELLOHOWAREYOUHELLYA'], 4)"
   ]
  },
  {
   "cell_type": "markdown",
   "metadata": {},
   "source": [
    "### assembly of TAAAAACCCCAAAAAG from its 5-mer spectrum"
   ]
  },
  {
   "cell_type": "code",
   "execution_count": 23,
   "metadata": {
    "collapsed": true
   },
   "outputs": [],
   "source": [
    "walk = DeBruijnGraph(['TAAAAACCCCAAAAAG'], k=5)"
   ]
  },
  {
   "cell_type": "code",
   "execution_count": 24,
   "metadata": {},
   "outputs": [
    {
     "data": {
      "image/svg+xml": [
       "<?xml version=\"1.0\" encoding=\"UTF-8\" standalone=\"no\"?>\n",
       "<!DOCTYPE svg PUBLIC \"-//W3C//DTD SVG 1.1//EN\"\n",
       " \"http://www.w3.org/Graphics/SVG/1.1/DTD/svg11.dtd\">\n",
       "<!-- Generated by graphviz version 2.36.0 (20140111.2315)\n",
       " -->\n",
       "<!-- Title: DeBruijn graph Pages: 1 -->\n",
       "<svg width=\"200pt\" height=\"548pt\"\n",
       " viewBox=\"0.00 0.00 200.00 548.00\" xmlns=\"http://www.w3.org/2000/svg\" xmlns:xlink=\"http://www.w3.org/1999/xlink\">\n",
       "<g id=\"graph0\" class=\"graph\" transform=\"scale(1 1) rotate(0) translate(4 544)\">\n",
       "<title>DeBruijn graph</title>\n",
       "<!-- CCCC -->\n",
       "<g id=\"node1\" class=\"node\"><title>CCCC</title>\n",
       "<ellipse fill=\"none\" stroke=\"black\" cx=\"137\" cy=\"-522\" rx=\"35.1455\" ry=\"18\"/>\n",
       "<text text-anchor=\"middle\" x=\"137\" y=\"-518.3\" font-family=\"Times,serif\" font-size=\"14.00\">CCCC</text>\n",
       "</g>\n",
       "<!-- CCCA -->\n",
       "<g id=\"node4\" class=\"node\"><title>CCCA</title>\n",
       "<ellipse fill=\"none\" stroke=\"black\" cx=\"83\" cy=\"-450\" rx=\"35.6194\" ry=\"18\"/>\n",
       "<text text-anchor=\"middle\" x=\"83\" y=\"-446.3\" font-family=\"Times,serif\" font-size=\"14.00\">CCCA</text>\n",
       "</g>\n",
       "<!-- CCCC&#45;&gt;CCCA -->\n",
       "<g id=\"edge1\" class=\"edge\"><title>CCCC&#45;&gt;CCCA</title>\n",
       "<path fill=\"none\" stroke=\"black\" d=\"M124.747,-505.116C117.94,-496.292 109.329,-485.13 101.698,-475.238\"/>\n",
       "<polygon fill=\"black\" stroke=\"black\" points=\"104.459,-473.087 95.5797,-467.307 98.9165,-477.363 104.459,-473.087\"/>\n",
       "</g>\n",
       "<!-- TAAA -->\n",
       "<g id=\"node2\" class=\"node\"><title>TAAA</title>\n",
       "<ellipse fill=\"none\" stroke=\"black\" cx=\"128\" cy=\"-306\" rx=\"35.6194\" ry=\"18\"/>\n",
       "<text text-anchor=\"middle\" x=\"128\" y=\"-302.3\" font-family=\"Times,serif\" font-size=\"14.00\">TAAA</text>\n",
       "</g>\n",
       "<!-- AAAA -->\n",
       "<g id=\"node6\" class=\"node\"><title>AAAA</title>\n",
       "<ellipse fill=\"none\" stroke=\"black\" cx=\"64\" cy=\"-234\" rx=\"37.0701\" ry=\"18\"/>\n",
       "<text text-anchor=\"middle\" x=\"64\" y=\"-230.3\" font-family=\"Times,serif\" font-size=\"14.00\">AAAA</text>\n",
       "</g>\n",
       "<!-- TAAA&#45;&gt;AAAA -->\n",
       "<g id=\"edge2\" class=\"edge\"><title>TAAA&#45;&gt;AAAA</title>\n",
       "<path fill=\"none\" stroke=\"black\" d=\"M113.796,-289.465C105.462,-280.349 94.7665,-268.651 85.4254,-258.434\"/>\n",
       "<polygon fill=\"black\" stroke=\"black\" points=\"87.9385,-255.996 78.6077,-250.977 82.7723,-260.719 87.9385,-255.996\"/>\n",
       "</g>\n",
       "<!-- AACC -->\n",
       "<g id=\"node3\" class=\"node\"><title>AACC</title>\n",
       "<ellipse fill=\"none\" stroke=\"black\" cx=\"82\" cy=\"-90\" rx=\"35.6194\" ry=\"18\"/>\n",
       "<text text-anchor=\"middle\" x=\"82\" y=\"-86.3\" font-family=\"Times,serif\" font-size=\"14.00\">AACC</text>\n",
       "</g>\n",
       "<!-- ACCC -->\n",
       "<g id=\"node5\" class=\"node\"><title>ACCC</title>\n",
       "<ellipse fill=\"none\" stroke=\"black\" cx=\"137\" cy=\"-18\" rx=\"35.6194\" ry=\"18\"/>\n",
       "<text text-anchor=\"middle\" x=\"137\" y=\"-14.3\" font-family=\"Times,serif\" font-size=\"14.00\">ACCC</text>\n",
       "</g>\n",
       "<!-- AACC&#45;&gt;ACCC -->\n",
       "<g id=\"edge3\" class=\"edge\"><title>AACC&#45;&gt;ACCC</title>\n",
       "<path fill=\"none\" stroke=\"black\" d=\"M94.4804,-73.1159C101.413,-64.292 110.184,-53.1298 117.956,-43.238\"/>\n",
       "<polygon fill=\"black\" stroke=\"black\" points=\"120.761,-45.3326 124.187,-35.307 115.257,-41.0078 120.761,-45.3326\"/>\n",
       "</g>\n",
       "<!-- CCAA -->\n",
       "<g id=\"node9\" class=\"node\"><title>CCAA</title>\n",
       "<ellipse fill=\"none\" stroke=\"black\" cx=\"61\" cy=\"-378\" rx=\"35.6194\" ry=\"18\"/>\n",
       "<text text-anchor=\"middle\" x=\"61\" y=\"-374.3\" font-family=\"Times,serif\" font-size=\"14.00\">CCAA</text>\n",
       "</g>\n",
       "<!-- CCCA&#45;&gt;CCAA -->\n",
       "<g id=\"edge4\" class=\"edge\"><title>CCCA&#45;&gt;CCAA</title>\n",
       "<path fill=\"none\" stroke=\"black\" d=\"M77.6744,-432.055C75.2249,-424.261 72.2583,-414.822 69.5105,-406.079\"/>\n",
       "<polygon fill=\"black\" stroke=\"black\" points=\"72.7667,-404.766 66.4294,-396.275 66.0887,-406.865 72.7667,-404.766\"/>\n",
       "</g>\n",
       "<!-- ACCC&#45;&gt;CCCC -->\n",
       "<g id=\"edge5\" class=\"edge\"><title>ACCC&#45;&gt;CCCC</title>\n",
       "<path fill=\"none\" stroke=\"black\" d=\"M147.866,-35.2526C163.895,-60.8458 192,-112.62 192,-161 192,-379 192,-379 192,-379 192,-422.467 169.314,-468.673 153.082,-496.17\"/>\n",
       "<polygon fill=\"black\" stroke=\"black\" points=\"150.071,-494.385 147.866,-504.747 156.052,-498.021 150.071,-494.385\"/>\n",
       "</g>\n",
       "<!-- AAAA&#45;&gt;AAAA -->\n",
       "<g id=\"edge6\" class=\"edge\"><title>AAAA&#45;&gt;AAAA</title>\n",
       "<path fill=\"none\" stroke=\"black\" d=\"M98.375,-240.75C109.833,-240.75 119,-238.5 119,-234 119,-230.977 114.862,-228.969 108.671,-227.977\"/>\n",
       "<polygon fill=\"black\" stroke=\"black\" points=\"108.597,-224.463 98.375,-227.25 108.104,-231.445 108.597,-224.463\"/>\n",
       "</g>\n",
       "<!-- AAAA&#45;&gt;AAAA -->\n",
       "<g id=\"edge8\" class=\"edge\"><title>AAAA&#45;&gt;AAAA</title>\n",
       "<path fill=\"none\" stroke=\"black\" d=\"M92.4735,-245.756C114.517,-250.153 137,-246.234 137,-234 137,-223.629 120.846,-219.234 102.498,-220.813\"/>\n",
       "<polygon fill=\"black\" stroke=\"black\" points=\"101.879,-217.366 92.4735,-222.244 102.868,-224.296 101.879,-217.366\"/>\n",
       "</g>\n",
       "<!-- AAAC -->\n",
       "<g id=\"node7\" class=\"node\"><title>AAAC</title>\n",
       "<ellipse fill=\"none\" stroke=\"black\" cx=\"36\" cy=\"-162\" rx=\"36.096\" ry=\"18\"/>\n",
       "<text text-anchor=\"middle\" x=\"36\" y=\"-158.3\" font-family=\"Times,serif\" font-size=\"14.00\">AAAC</text>\n",
       "</g>\n",
       "<!-- AAAA&#45;&gt;AAAC -->\n",
       "<g id=\"edge7\" class=\"edge\"><title>AAAA&#45;&gt;AAAC</title>\n",
       "<path fill=\"none\" stroke=\"black\" d=\"M57.222,-216.055C53.989,-207.973 50.0486,-198.121 46.4447,-189.112\"/>\n",
       "<polygon fill=\"black\" stroke=\"black\" points=\"49.6792,-187.774 42.7156,-179.789 43.1799,-190.374 49.6792,-187.774\"/>\n",
       "</g>\n",
       "<!-- AAAG -->\n",
       "<g id=\"node10\" class=\"node\"><title>AAAG</title>\n",
       "<ellipse fill=\"none\" stroke=\"black\" cx=\"127\" cy=\"-162\" rx=\"37.0701\" ry=\"18\"/>\n",
       "<text text-anchor=\"middle\" x=\"127\" y=\"-158.3\" font-family=\"Times,serif\" font-size=\"14.00\">AAAG</text>\n",
       "</g>\n",
       "<!-- AAAA&#45;&gt;AAAG -->\n",
       "<g id=\"edge9\" class=\"edge\"><title>AAAA&#45;&gt;AAAG</title>\n",
       "<path fill=\"none\" stroke=\"black\" d=\"M78.2957,-217.116C86.4312,-208.076 96.7752,-196.583 105.836,-186.515\"/>\n",
       "<polygon fill=\"black\" stroke=\"black\" points=\"108.673,-188.596 112.761,-178.821 103.47,-183.913 108.673,-188.596\"/>\n",
       "</g>\n",
       "<!-- AAAC&#45;&gt;AACC -->\n",
       "<g id=\"edge10\" class=\"edge\"><title>AAAC&#45;&gt;AACC</title>\n",
       "<path fill=\"none\" stroke=\"black\" d=\"M46.6689,-144.765C52.2773,-136.23 59.2745,-125.582 65.5589,-116.019\"/>\n",
       "<polygon fill=\"black\" stroke=\"black\" points=\"68.5026,-117.913 71.0695,-107.633 62.6527,-114.068 68.5026,-117.913\"/>\n",
       "</g>\n",
       "<!-- CAAA -->\n",
       "<g id=\"node8\" class=\"node\"><title>CAAA</title>\n",
       "<ellipse fill=\"none\" stroke=\"black\" cx=\"38\" cy=\"-306\" rx=\"36.096\" ry=\"18\"/>\n",
       "<text text-anchor=\"middle\" x=\"38\" y=\"-302.3\" font-family=\"Times,serif\" font-size=\"14.00\">CAAA</text>\n",
       "</g>\n",
       "<!-- CAAA&#45;&gt;AAAA -->\n",
       "<g id=\"edge11\" class=\"edge\"><title>CAAA&#45;&gt;AAAA</title>\n",
       "<path fill=\"none\" stroke=\"black\" d=\"M44.2939,-288.055C47.264,-280.059 50.8771,-270.331 54.1945,-261.4\"/>\n",
       "<polygon fill=\"black\" stroke=\"black\" points=\"57.5631,-262.382 57.7641,-251.789 51.0012,-259.945 57.5631,-262.382\"/>\n",
       "</g>\n",
       "<!-- CCAA&#45;&gt;CAAA -->\n",
       "<g id=\"edge12\" class=\"edge\"><title>CCAA&#45;&gt;CAAA</title>\n",
       "<path fill=\"none\" stroke=\"black\" d=\"M55.4323,-360.055C52.8436,-352.176 49.7026,-342.617 46.8038,-333.794\"/>\n",
       "<polygon fill=\"black\" stroke=\"black\" points=\"50.1229,-332.683 43.6762,-324.275 43.4727,-334.868 50.1229,-332.683\"/>\n",
       "</g>\n",
       "</g>\n",
       "</svg>\n"
      ]
     },
     "metadata": {},
     "output_type": "display_data"
    }
   ],
   "source": [
    "%dotobj DeBruijnGraph2(['TAAAAACCCCAAAAAG'], k=5)"
   ]
  },
  {
   "cell_type": "code",
   "execution_count": 105,
   "metadata": {},
   "outputs": [
    {
     "data": {
      "text/plain": [
       "(True, True, False)"
      ]
     },
     "execution_count": 105,
     "metadata": {},
     "output_type": "execute_result"
    }
   ],
   "source": [
    "walk.isEulerian(), walk.hasEulerianWalk(), walk.hasEulerianCycle()"
   ]
  },
  {
   "cell_type": "markdown",
   "metadata": {},
   "source": [
    "#### This graph has an Eulerian path, but it is not unique. There are three paths that you can take along the graph, meaning there are three different assemblies that might occur. "
   ]
  },
  {
   "cell_type": "code",
   "execution_count": 107,
   "metadata": {},
   "outputs": [
    {
     "data": {
      "text/plain": [
       "'TAAAAACCCCAAAAAG'"
      ]
     },
     "execution_count": 107,
     "metadata": {},
     "output_type": "execute_result"
    }
   ],
   "source": [
    "walk = DeBruijnGraph(['TAAAAACCCCAAAAAG'], k=5).eulerianWalkOrCycle()\n",
    "walk[0] + ''.join(map(lambda x: x[-1], walk[1:]))"
   ]
  },
  {
   "cell_type": "markdown",
   "metadata": {},
   "source": [
    "### Assembly of TAAAAACCCCAAAAAG from the support of its 5-mer spectrum"
   ]
  },
  {
   "cell_type": "markdown",
   "metadata": {},
   "source": [
    "With the support of the 5-mer spectrum, we expect to see subset of the graph above. Since we can't see repeat k-mers in the graph (all non-zero k-mers are set to 1), we will have the option of seeing two sequences, either ('TAAAAACCCCAAAA','AAAAG') or ('TAAAA', 'AAAACCCCAAAAAG'). \n"
   ]
  },
  {
   "cell_type": "markdown",
   "metadata": {},
   "source": [
    "### Generate a random 100 length genome. Generate random 10 length reads from this up to a coverage depth of 30, and give the assembly. Generate random length 10 length reads with 5% error rates and repeat the process. "
   ]
  },
  {
   "cell_type": "code",
   "execution_count": 26,
   "metadata": {},
   "outputs": [],
   "source": [
    "import random\n",
    "# Make a function to make a random genome\n",
    "def get_random_string(length=100, allowed_chars='ATCG'):\n",
    "    return ''.join(random.choice(allowed_chars) for i in range(length))"
   ]
  },
  {
   "cell_type": "code",
   "execution_count": 27,
   "metadata": {},
   "outputs": [
    {
     "data": {
      "text/plain": [
       "'GTGATCAGGCCCCCTAACAGCGTTCACATTCCTCTCACGGGTATAAACCATGGAAGGGCGGTTCAATGTACAACGCGCTGACATACGGGAGGTCTGAGAA'"
      ]
     },
     "execution_count": 27,
     "metadata": {},
     "output_type": "execute_result"
    }
   ],
   "source": [
    "genome = get_random_string(length=100, allowed_chars='ATCG')\n",
    "genome"
   ]
  },
  {
   "cell_type": "code",
   "execution_count": 28,
   "metadata": {},
   "outputs": [
    {
     "data": {
      "text/plain": [
       "300"
      ]
     },
     "execution_count": 28,
     "metadata": {},
     "output_type": "execute_result"
    }
   ],
   "source": [
    "# Calculate the number of reads based on the definition of coverage ( c = NL/G) \n",
    "c = 30\n",
    "L = 10\n",
    "G = 100\n",
    "N = c * G/L\n",
    "N\n"
   ]
  },
  {
   "cell_type": "code",
   "execution_count": 39,
   "metadata": {},
   "outputs": [
    {
     "data": {
      "text/plain": [
       "[['TCCTCTCACG', 'TCCTCTCAC', 'CCTCTCACG'],\n",
       " ['TTCAATGTAC', 'TTCAATGTA', 'TCAATGTAC'],\n",
       " ['CCCCCTAACA', 'CCCCCTAAC', 'CCCCTAACA'],\n",
       " ['CCCCTAACAG', 'CCCCTAACA', 'CCCTAACAG'],\n",
       " ['CAGCGTTCAC', 'CAGCGTTCA', 'AGCGTTCAC'],\n",
       " ['TCAATGTACA', 'TCAATGTAC', 'CAATGTACA'],\n",
       " ['TTCACATTCC', 'TTCACATTC', 'TCACATTCC'],\n",
       " ['GGGAGGTCTG', 'GGGAGGTCT', 'GGAGGTCTG'],\n",
       " ['GGAAGGGCGG', 'GGAAGGGCG', 'GAAGGGCGG'],\n",
       " ['GTATAAACCA', 'GTATAAACC', 'TATAAACCA'],\n",
       " ['GGGCGGTTCA', 'GGGCGGTTC', 'GGCGGTTCA'],\n",
       " ['ACGGGAGGTC', 'ACGGGAGGT', 'CGGGAGGTC'],\n",
       " ['GCCCCCTAAC', 'GCCCCCTAA', 'CCCCCTAAC'],\n",
       " ['AAGGGCGGTT', 'AAGGGCGGT', 'AGGGCGGTT'],\n",
       " ['ACCATGGAAG', 'ACCATGGAA', 'CCATGGAAG'],\n",
       " ['CGCTGACATA', 'CGCTGACAT', 'GCTGACATA'],\n",
       " ['CGGGTATAAA', 'CGGGTATAA', 'GGGTATAAA'],\n",
       " ['AGCGTTCACA', 'AGCGTTCAC', 'GCGTTCACA'],\n",
       " ['CCTCTCACGG', 'CCTCTCACG', 'CTCTCACGG'],\n",
       " ['TTCACATTCC', 'TTCACATTC', 'TCACATTCC']]"
      ]
     },
     "execution_count": 39,
     "metadata": {},
     "output_type": "execute_result"
    }
   ],
   "source": [
    "# Generate a list of N random reads\n",
    "def chop(st, k):\n",
    "    ''' Chop string into k-mers of given length '''\n",
    "    for i in xrange(0, len(st)-(k-1)):\n",
    "        yield [st[i:i+k], st[i:i+k-1], st[i+1:i+k]]\n",
    "ten_mers = list(chop(genome,10))\n",
    "#ten_mers\n",
    "r = 0\n",
    "reads = []\n",
    "while r <300:\n",
    "    new = random.choice(ten_mers)\n",
    "    reads.append(new)\n",
    "    r = r + 1\n",
    "reads[:20]"
   ]
  },
  {
   "cell_type": "code",
   "execution_count": 31,
   "metadata": {},
   "outputs": [],
   "source": [
    "# Assemble from reads using modified de Bruijn graph code\n",
    "def de_bruijn_ize(read_list):\n",
    "    \"\"\" Return a list holding, for each k-mer, its left\n",
    "        k-1-mer and its right k-1-mer in a pair \"\"\"\n",
    "    edges = []\n",
    "    nodes = set()\n",
    "    for i in read_list:\n",
    "        if i[0] not in edges:\n",
    "            edges.append(i[0])\n",
    "        if i[1] not in nodes:\n",
    "            nodes.add(i[1])\n",
    "        if i[2] not in nodes:\n",
    "            nodes.add(i[2])\n",
    "    return nodes, edges"
   ]
  },
  {
   "cell_type": "code",
   "execution_count": 32,
   "metadata": {},
   "outputs": [],
   "source": [
    "nodes,edges = de_bruijn_ize(reads)"
   ]
  },
  {
   "cell_type": "code",
   "execution_count": null,
   "metadata": {
    "collapsed": true
   },
   "outputs": [],
   "source": [
    "# Adding a 5% substitution error (because it seems to be the most common error)\n",
    "error_reads = []\n",
    "e = 0\n",
    "while e <= 300:\n",
    "    s = list(reads[e])\n",
    "    error_reads.append(s(0))\n",
    "    #print s\n",
    "    if e%20 == 0 : \n",
    "        s.index('A') #Find the first A in every 20 reads and then change it to a C\n",
    "    e = e + 1 "
   ]
  },
  {
   "cell_type": "code",
   "execution_count": null,
   "metadata": {
    "collapsed": true
   },
   "outputs": [],
   "source": [
    "error_nodes,error_edges = de_bruijn_ize(error_reads)"
   ]
  },
  {
   "cell_type": "markdown",
   "metadata": {},
   "source": [
    "Both sets of reads should assemble correctly. However, the assembly with the high error rate is more difficult because you need to do error correction on the reads before creating a de Bruijn graph and finding the Eulerian path. To do error correction, you first need to get a count of all the k-mers in the reads and then you need to threshold to only take into consideration k-mers with more than the threshold count. Since reads in this case are uniformly distributed and errors happen infrequently enough, a low k-mer count means that it is very likely that an error has occured (as long as you pick k large enough). After getting rid of the erroneous reads, you can continue on to create your graph and EC. "
   ]
  },
  {
   "cell_type": "markdown",
   "metadata": {},
   "source": [
    "## Alignment \n",
    "### Give an algorithm (described by pseudo code) to find the best alignment of a read onto a DNA sequence and to compute the edit distance for the best alignment.\n"
   ]
  },
  {
   "cell_type": "markdown",
   "metadata": {},
   "source": [
    "- Extract substrings of length k from the DNA sequence you are aligning onto. \n",
    "- Store them into some sort of a map data structure along with the index at which they occur. \n",
    "- Chop the read into k-mers. \n",
    "- Pick a k-mer (may be easiest to pick the leftmost k-mer) of the read and search to see if it matches any k-length sequence in the DNA within some edit distance. \n",
    "- If it aligns in the DNA, store the edit distance then look at the next k-mer in the read to see if it aligns with the next indexed k-length substring of the DNA. Add to the edit distance. \n",
    "- Keep extending the read and adding to the edit distance until you have matched the whole read to the DNA. \n",
    "\n",
    " "
   ]
  },
  {
   "cell_type": "markdown",
   "metadata": {
    "collapsed": true
   },
   "source": [
    "### Algorithm (described by pseudo code) to find the best head-to-tail alignment between two reads s and t. The score of a particular alignment between s[i :] and t[: j] is given by max(i, j)− d(s[i :], t[: j]) where d is the edit distance. We need to find the alignment between i and j."
   ]
  },
  {
   "cell_type": "markdown",
   "metadata": {
    "collapsed": true
   },
   "source": [
    "The best alignment algorithm is given by dynamic programming. Say we are comparing two DNA sequences, S and T, where S is length m and T is length n. We need to create a scoring matrix  of size (m+1) by (n+1) and indexed by (i,j), where i is the prefix length of S and j is the prefix length of T.\n",
    "\n",
    "Psuedo code for comparison of S and T:\n",
    " -  Initialize the first column and the first row (m+1)by (n+1) matrix by comparing prefixes. \n",
    "     - Identical characters receive a +1, mismatches get a -1, gaps give -2 (inserting or deleting a base\n",
    " - Compute the value for the (i,j) entry by looking at the three previous entries (i-1,j-1),(i-1,1), (i, j-1)\n",
    "     - Pick the maximum schore of either adding a deletion, inserting a base, or rearraning/matching the transcript to get the optimal edit distance\n",
    " - Traverse the matrix such that you get the maximum score - this will give you the best alignment. \n",
    " \n",
    "You can output this score to get an instatiation of the edit distance. "
   ]
  },
  {
   "cell_type": "code",
   "execution_count": null,
   "metadata": {
    "collapsed": true
   },
   "outputs": [],
   "source": []
  }
 ],
 "metadata": {
  "kernelspec": {
   "display_name": "Python 2",
   "language": "python",
   "name": "python2"
  },
  "language_info": {
   "codemirror_mode": {
    "name": "ipython",
    "version": 2
   },
   "file_extension": ".py",
   "mimetype": "text/x-python",
   "name": "python",
   "nbconvert_exporter": "python",
   "pygments_lexer": "ipython2",
   "version": "2.7.13"
  }
 },
 "nbformat": 4,
 "nbformat_minor": 1
}
