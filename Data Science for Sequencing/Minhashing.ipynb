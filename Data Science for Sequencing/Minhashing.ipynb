{
 "cells": [
  {
   "cell_type": "markdown",
   "metadata": {},
   "source": [
    "### Sundipta Rao\n",
    "\n",
    "### MinHashing\n",
    "#### We can describe a read as a set of unique overlapping k-mers, and we would expect similar readsto have similar sets. Function that takes k and a read as inputs and outputs a dictionary indicating which of the 4^k k-mers are in the read."
   ]
  },
  {
   "cell_type": "code",
   "execution_count": 20,
   "metadata": {},
   "outputs": [],
   "source": [
    "def which_kmers(k, read):\n",
    "    index = {}\n",
    "    j = 0\n",
    "    for i in range(len(read) - (k-1)):\n",
    "        kmer = read[i: i + k]\n",
    "        index[kmer] = j \n",
    "        j = j + 1\n",
    "    return index"
   ]
  },
  {
   "cell_type": "code",
   "execution_count": 26,
   "metadata": {},
   "outputs": [
    {
     "data": {
      "text/plain": [
       "{'ATCG': 0, 'CGAC': 2, 'TCGA': 1}"
      ]
     },
     "execution_count": 26,
     "metadata": {},
     "output_type": "execute_result"
    }
   ],
   "source": [
    "z = which_kmers(4, 'ATCGAC')\n",
    "z"
   ]
  },
  {
   "cell_type": "markdown",
   "metadata": {},
   "source": [
    "#### Function to compute the Jaccard similarity between two dictionaries "
   ]
  },
  {
   "cell_type": "code",
   "execution_count": 37,
   "metadata": {
    "collapsed": true
   },
   "outputs": [],
   "source": [
    "def jaccard(a,b):\n",
    "    r1 = which_kmers(3, a)\n",
    "    r2 = which_kmers(3, b)\n",
    "    l1 = r1.keys()\n",
    "    l2 = r2.keys()\n",
    "    \n",
    "    intersection = 0\n",
    "    for l in l1:\n",
    "        if l in l2:\n",
    "            intersection = intersection + 1\n",
    "    \n",
    "    union = len(l1) + len (l2) - intersection\n",
    "    \n",
    "    sim = float(intersection) / union\n",
    "    \n",
    "    return sim"
   ]
  },
  {
   "cell_type": "code",
   "execution_count": 38,
   "metadata": {},
   "outputs": [
    {
     "data": {
      "text/plain": [
       "0.2222222222222222"
      ]
     },
     "execution_count": 38,
     "metadata": {},
     "output_type": "execute_result"
    }
   ],
   "source": [
    "jaccard ('CATGGACCGACCAG', 'GCAGTACCGATCGT' )"
   ]
  },
  {
   "cell_type": "markdown",
   "metadata": {},
   "source": [
    "The runtime complexity of my function is O(L^2), where L is the length of the strings being compared and is also approximately the number of k-mers. For a situation with N reads of length L each, the worst-case runtime complexity for computing the Jaccard similarity between every pair of reads is O((N choose 2)L^2), because you have N choose 2 comparisions you need to run and for each one you need to two sets of length L together. "
   ]
  }
 ],
 "metadata": {
  "kernelspec": {
   "display_name": "Python 2",
   "language": "python",
   "name": "python2"
  },
  "language_info": {
   "codemirror_mode": {
    "name": "ipython",
    "version": 2
   },
   "file_extension": ".py",
   "mimetype": "text/x-python",
   "name": "python",
   "nbconvert_exporter": "python",
   "pygments_lexer": "ipython2",
   "version": "2.7.13"
  }
 },
 "nbformat": 4,
 "nbformat_minor": 1
}
