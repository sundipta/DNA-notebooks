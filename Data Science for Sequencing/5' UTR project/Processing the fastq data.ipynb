{
 "cells": [
  {
   "cell_type": "code",
   "execution_count": null,
   "metadata": {
    "collapsed": true
   },
   "outputs": [],
   "source": [
    "import os\n",
    "for file in os.listdir(\"Data_from_Paul/fastq\"):\n",
    "    if file.endswith(\".fastq\"):\n",
    "        with open(file,\"r\") as counter:\n",
    "            count = int(counter.read())\n",
    "        count += 1\n",
    "    "
   ]
  },
  {
   "cell_type": "code",
   "execution_count": null,
   "metadata": {
    "collapsed": true
   },
   "outputs": [],
   "source": [
    "with open(\"Data_from_Paul/fastq/N702_S2_R1_001.fastq\", 'r') as f:\n",
    "    content = f.readlines()\n",
    "\n",
    "    # take the line with the sequences (the second line every four lines)\n",
    "    bases = [line.strip(' \\n\\t\\rN') for line in content[1::4]]\n",
    "    #print bases[0:3]"
   ]
  },
  {
   "cell_type": "code",
   "execution_count": 1,
   "metadata": {
    "collapsed": true
   },
   "outputs": [],
   "source": [
    "with open(\"Data_from_Paul/fastq/N702_S2_R1_001.fastq\", 'r') as f:\n",
    "    bases = [line.strip(' \\n\\t\\rN') for i, line in enumerate(f) if i % 4 == 1]"
   ]
  },
  {
   "cell_type": "code",
   "execution_count": 2,
   "metadata": {},
   "outputs": [
    {
     "name": "stdout",
     "output_type": "stream",
     "text": [
      "['CACCCNTTACTGCTTACTGGCTTATCGAAATTTCTGACGAGGGCTCTCCAACAGTAATGAATGGGTGGAAAGAGTCACAGGANTGCCTCCCGAGAAGAAGATCAAGAGCGTNAGCAAAGNTCNGAAGNGC', 'AGTGGNGGAGAACCCACTCTTACTGGCTTATCGAAATTCCATCAAGGTTCGCTAGATGCCTCCCGAGAAGAAGATCAAGAGCNTGAGCAA', 'AACGCNTCAACCCACTGCTTACTGGCTTATCGAAATTATATGTTCAGAGCCTACAGATGAAAGCCACTCGTACCGATTTGACNTATTATGCCTCCCGAGAAGAAGATCAAGNGCGTGAGNAANGATCNGA']\n"
     ]
    }
   ],
   "source": [
    "print bases[0:3]"
   ]
  },
  {
   "cell_type": "code",
   "execution_count": 14,
   "metadata": {},
   "outputs": [
    {
     "data": {
      "text/plain": [
       "10719493"
      ]
     },
     "execution_count": 14,
     "metadata": {},
     "output_type": "execute_result"
    }
   ],
   "source": [
    "len(bases)"
   ]
  },
  {
   "cell_type": "code",
   "execution_count": 3,
   "metadata": {},
   "outputs": [
    {
     "data": {
      "text/plain": [
       "55"
      ]
     },
     "execution_count": 3,
     "metadata": {},
     "output_type": "execute_result"
    }
   ],
   "source": [
    "len('AGTGGNGGAGAACCCACTCTTACTGGCTTATCGAAATTCCATCAAGGTTCGCTAG')"
   ]
  },
  {
   "cell_type": "code",
   "execution_count": 11,
   "metadata": {},
   "outputs": [
    {
     "data": {
      "text/plain": [
       "48"
      ]
     },
     "execution_count": 11,
     "metadata": {},
     "output_type": "execute_result"
    }
   ],
   "source": [
    "len('NTGCCTCCCGAGAAGAAGATCAAGAGCGTNAGCAAAGNTCNGAAGNGC')"
   ]
  },
  {
   "cell_type": "code",
   "execution_count": 8,
   "metadata": {},
   "outputs": [
    {
     "data": {
      "text/plain": [
       "130"
      ]
     },
     "execution_count": 8,
     "metadata": {},
     "output_type": "execute_result"
    }
   ],
   "source": [
    "len('CACCCNTTACTGCTTACTGGCTTATCGAAATTTCTGACGAGGGCTCTCCAACAGTAATGAATGGGTGGAAAGAGTCACAGGANTGCCTCCCGAGAAGAAGATCAAGAGCGTNAGCAAAGNTCNGAAGNGC')"
   ]
  },
  {
   "cell_type": "code",
   "execution_count": 10,
   "metadata": {},
   "outputs": [
    {
     "data": {
      "text/plain": [
       "43"
      ]
     },
     "execution_count": 10,
     "metadata": {},
     "output_type": "execute_result"
    }
   ],
   "source": [
    "len('ATGCCTCCCGAGAAGAAGATCAAGNGCGTGAGNAANGATCNGA')"
   ]
  },
  {
   "cell_type": "code",
   "execution_count": 9,
   "metadata": {},
   "outputs": [
    {
     "data": {
      "text/plain": [
       "130"
      ]
     },
     "execution_count": 9,
     "metadata": {},
     "output_type": "execute_result"
    }
   ],
   "source": [
    "len('AACGCNTCAACCCACTGCTTACTGGCTTATCGAAATTATATGTTCAGAGCCTACAGATGAAAGCCACTCGTACCGATTTGACNTATTATGCCTCCCGAGAAGAAGATCAAGNGCGTGAGNAANGATCNGA')"
   ]
  },
  {
   "cell_type": "code",
   "execution_count": 12,
   "metadata": {},
   "outputs": [
    {
     "data": {
      "text/plain": [
       "37"
      ]
     },
     "execution_count": 12,
     "metadata": {},
     "output_type": "execute_result"
    }
   ],
   "source": [
    "130-93"
   ]
  },
  {
   "cell_type": "code",
   "execution_count": 13,
   "metadata": {},
   "outputs": [
    {
     "data": {
      "text/plain": [
       "32"
      ]
     },
     "execution_count": 13,
     "metadata": {},
     "output_type": "execute_result"
    }
   ],
   "source": [
    "130-98"
   ]
  },
  {
   "cell_type": "code",
   "execution_count": null,
   "metadata": {
    "collapsed": true
   },
   "outputs": [],
   "source": []
  }
 ],
 "metadata": {
  "kernelspec": {
   "display_name": "Python 2",
   "language": "python",
   "name": "python2"
  },
  "language_info": {
   "codemirror_mode": {
    "name": "ipython",
    "version": 2
   },
   "file_extension": ".py",
   "mimetype": "text/x-python",
   "name": "python",
   "nbconvert_exporter": "python",
   "pygments_lexer": "ipython2",
   "version": "2.7.13"
  }
 },
 "nbformat": 4,
 "nbformat_minor": 1
}
