{
 "cells": [
  {
   "cell_type": "markdown",
   "metadata": {
    "deletable": true,
    "editable": true
   },
   "source": [
    "# Homework 3"
   ]
  },
  {
   "cell_type": "code",
   "execution_count": 227,
   "metadata": {
    "collapsed": false,
    "deletable": true,
    "editable": true
   },
   "outputs": [],
   "source": [
    "import numpy as np\n",
    "import pandas as pd\n",
    "import sklearn\n",
    "import matplotlib.pyplot as plt\n",
    "from sklearn import datasets, linear_model\n",
    "%matplotlib inline\n",
    "from scipy.interpolate import CubicSpline"
   ]
  },
  {
   "cell_type": "markdown",
   "metadata": {},
   "source": [
    "### Question 1"
   ]
  },
  {
   "cell_type": "code",
   "execution_count": 228,
   "metadata": {
    "collapsed": false,
    "deletable": true,
    "editable": true
   },
   "outputs": [
    {
     "data": {
      "text/plain": [
       "<matplotlib.axes._subplots.AxesSubplot at 0x1182d04d0>"
      ]
     },
     "execution_count": 228,
     "metadata": {},
     "output_type": "execute_result"
    },
    {
     "data": {
      "image/png": "[encoded data removed]",
      "text/plain": [
       "<matplotlib.figure.Figure at 0x1168d4390>"
      ]
     },
     "metadata": {},
     "output_type": "display_data"
    }
   ],
   "source": [
    "# Load the fossil dataset\n",
    "fossil = pd.read_csv(\"/Users/Sundipta/Downloads/fossil.csv\")\n",
    "fossil = fossil.sort_values(\"age\")\n",
    "\n",
    "fossil_X = fossil[[\"age\"]]\n",
    "fossil_Y = fossil[[\"strontium.ratio\"]]\n",
    "\n",
    "fossil.plot(\"age\",\"strontium.ratio\", kind = \"scatter\")"
   ]
  },
  {
   "cell_type": "code",
   "execution_count": 229,
   "metadata": {
    "collapsed": false,
    "deletable": true,
    "editable": true
   },
   "outputs": [
    {
     "name": "stdout",
     "output_type": "stream",
     "text": [
      "('Coefficients: \\n', array([[ -1.42993299e-06]]))\n",
      "Mean squared error: 0.00000000556\n",
      "Variance score: 0.0293\n"
     ]
    },
    {
     "data": {
      "text/plain": [
       "([], <a list of 0 Text yticklabel objects>)"
      ]
     },
     "execution_count": 229,
     "metadata": {},
     "output_type": "execute_result"
    },
    {
     "data": {
      "image/png": "[encoded data removed]",
      "text/plain": [
       "<matplotlib.figure.Figure at 0x11936af90>"
      ]
     },
     "metadata": {},
     "output_type": "display_data"
    }
   ],
   "source": [
    "# Create linear regression object\n",
    "regr = linear_model.LinearRegression()\n",
    "\n",
    "# Train the model using the training sets\n",
    "regr.fit(fossil_X, fossil_Y)\n",
    "\n",
    "# The coefficients\n",
    "print('Coefficients: \\n', regr.coef_)\n",
    "# The mean squared error\n",
    "print(\"Mean squared error: %.11f\"\n",
    "      % np.mean((regr.predict(fossil_X) - fossil_Y) ** 2))\n",
    "# Explained variance score: 1 is perfect prediction\n",
    "print('Variance score: %.4f' % regr.score(fossil_X, fossil_Y))\n",
    "\n",
    "# Plot outputs\n",
    "plt.scatter(fossil_X, fossil_Y,  color='black')\n",
    "plt.plot(fossil_X, regr.predict(fossil_X), color='blue',\n",
    "         linewidth=3)\n",
    "\n",
    "plt.xticks(())\n",
    "plt.yticks(())\n"
   ]
  },
  {
   "cell_type": "code",
   "execution_count": 230,
   "metadata": {
    "collapsed": false,
    "deletable": true,
    "editable": true
   },
   "outputs": [
    {
     "data": {
      "text/plain": [
       "array([ 0.707343  ,  0.70742441,  0.70743869,  0.70740752,  0.7073526 ,\n",
       "        0.7072956 ,  0.70725822,  0.70726215,  0.70732907,  0.70741707,\n",
       "        0.70788865,  0.7078848 ,  0.70765431,  0.70744616,  0.70742507,\n",
       "        0.70739937,  0.7074584 ,  0.70746597,  0.70743801,  0.70739043,\n",
       "        0.70733916,  0.70730013,  0.70728926,  0.70732248,  0.70741571,\n",
       "        0.70755064,  0.7076536 ,  0.70772439,  0.70776667,  0.7077841 ,\n",
       "        0.70778036,  0.7077591 ,  0.70772398,  0.70767868,  0.70762685,\n",
       "        0.70757216,  0.70751827,  0.70746885,  0.70742756,  0.70739806,\n",
       "        0.70738401,  0.70738598,  0.70739348,  0.70740215,  0.70741129,\n",
       "        0.70742019,  0.70742814,  0.70743443,  0.70743835,  0.70743919,\n",
       "        0.70743624,  0.7074288 ,  0.70741639,  0.70740133,  0.70738786,\n",
       "        0.70738025,  0.70738276,  0.70739967,  0.70743268,  0.7074701 ,\n",
       "        0.70749587,  0.70749394,  0.70744829,  0.70739334,  0.70739469,\n",
       "        0.70742587,  0.70745694,  0.70746903,  0.70746529,  0.70745143,\n",
       "        0.7074332 ,  0.70741597,  0.7074018 ,  0.70739083,  0.70738318,\n",
       "        0.707379  ,  0.70737841,  0.70738153,  0.70738849,  0.70739943,\n",
       "        0.70741446,  0.70750503,  0.70734181,  0.70745624,  0.70747933,\n",
       "        0.70746312,  0.70743891,  0.7074444 ,  0.70747904,  0.70751173,\n",
       "        0.70751053,  0.7074435 ,  0.70736104,  0.70707142,  0.70704139,\n",
       "        0.70716356,  0.70733057,  0.70743664,  0.70744436,  0.70740857,\n",
       "        0.7073906 ,  0.70741011,  0.7074128 ,  0.70740865,  0.70741298,\n",
       "        0.70741419,  0.7074008 ,  0.7073864 ,  0.70736916,  0.70733804,\n",
       "        0.70741202,  0.7073612 ,  0.70737461,  0.70733443,  0.70736561,\n",
       "        0.70737675,  0.70731619,  0.70734152,  0.70734193,  0.70730615,\n",
       "        0.7073151 ,  0.70731262,  0.70729596,  0.70730305,  0.70730959,\n",
       "        0.70728834,  0.7072618 ,  0.70725363,  0.70724605,  0.70721918,\n",
       "        0.70721359,  0.70731514,  0.70721282,  0.70724044,  0.70728472,\n",
       "        0.70728768,  0.70735643,  0.70746851,  0.7075989 ,  0.70772259,\n",
       "        0.70781457,  0.70784984,  0.70780338,  0.7076502 ,  0.70736528,\n",
       "        0.7069311 ,  0.70645913,  0.70616965,  0.7062863 ,  0.70703277,\n",
       "        0.70701312,  0.70751161,  0.70713951,  0.70680805,  0.70670747,\n",
       "        0.70677036,  0.70692931,  0.70711691,  0.70726575,  0.7073226 ,\n",
       "        0.70731347,  0.70729199,  0.70731094,  0.70728906,  0.70709416,\n",
       "        0.70689837,  0.70689994,  0.70729568,  0.70768011,  0.70772584,\n",
       "        0.70758769,  0.7074205 ,  0.7073697 ,  0.70735724,  0.70734403,\n",
       "        0.70742218,  0.70746281,  0.70747041,  0.70745677,  0.70743385,\n",
       "        0.70741652,  0.70742243,  0.70745254,  0.70745032,  0.70744057,\n",
       "        0.70745975,  0.7074685 ,  0.70743955,  0.70745154,  0.70747395,\n",
       "        0.70747651,  0.70746452,  0.70745362,  0.70749044,  0.7075141 ,\n",
       "        0.70746165,  0.70746654,  0.70745854,  0.70743022,  0.707465  ])"
      ]
     },
     "execution_count": 230,
     "metadata": {},
     "output_type": "execute_result"
    }
   ],
   "source": [
    "cs = CubicSpline(fossil_X.iloc[:,0],fossil_Y.iloc[:,0])\n",
    "xs = np.linspace(fossil_X.min(), fossil_X.max(),200)\n",
    "cs(xs)\n"
   ]
  },
  {
   "cell_type": "markdown",
   "metadata": {
    "deletable": true,
    "editable": true
   },
   "source": [
    "### Question 2"
   ]
  },
  {
   "cell_type": "code",
   "execution_count": 231,
   "metadata": {
    "collapsed": false,
    "deletable": true,
    "editable": true
   },
   "outputs": [],
   "source": [
    "genotype = pd.read_csv(\"/Users/Sundipta/Downloads/cholestrol_genotype.txt\", sep = \"\\t\", header = None)\n",
    "phenotype = pd.read_csv(\"/Users/Sundipta/Downloads/cholestrol_phenotype.txt\",sep = \"\\t\", header = None)"
   ]
  },
  {
   "cell_type": "code",
   "execution_count": 232,
   "metadata": {
    "collapsed": false,
    "deletable": true,
    "editable": true
   },
   "outputs": [],
   "source": [
    "phenotype = phenotype.T"
   ]
  },
  {
   "cell_type": "code",
   "execution_count": 233,
   "metadata": {
    "collapsed": false
   },
   "outputs": [
    {
     "data": {
      "text/html": [
       "<div>\n",
       "<table border=\"1\" class=\"dataframe\">\n",
       "  <thead>\n",
       "    <tr style=\"text-align: right;\">\n",
       "      <th></th>\n",
       "      <th>0</th>\n",
       "    </tr>\n",
       "  </thead>\n",
       "  <tbody>\n",
       "    <tr>\n",
       "      <th>0</th>\n",
       "      <td>0.000000</td>\n",
       "    </tr>\n",
       "    <tr>\n",
       "      <th>1</th>\n",
       "      <td>-1.583340</td>\n",
       "    </tr>\n",
       "    <tr>\n",
       "      <th>2</th>\n",
       "      <td>0.202487</td>\n",
       "    </tr>\n",
       "    <tr>\n",
       "      <th>3</th>\n",
       "      <td>-2.203830</td>\n",
       "    </tr>\n",
       "    <tr>\n",
       "      <th>4</th>\n",
       "      <td>-0.334477</td>\n",
       "    </tr>\n",
       "  </tbody>\n",
       "</table>\n",
       "</div>"
      ],
      "text/plain": [
       "          0\n",
       "0  0.000000\n",
       "1 -1.583340\n",
       "2  0.202487\n",
       "3 -2.203830\n",
       "4 -0.334477"
      ]
     },
     "execution_count": 233,
     "metadata": {},
     "output_type": "execute_result"
    }
   ],
   "source": [
    "phenotype.head()"
   ]
  },
  {
   "cell_type": "code",
   "execution_count": 234,
   "metadata": {
    "collapsed": false,
    "deletable": true,
    "editable": true
   },
   "outputs": [
    {
     "data": {
      "text/html": [
       "<div>\n",
       "<table border=\"1\" class=\"dataframe\">\n",
       "  <thead>\n",
       "    <tr style=\"text-align: right;\">\n",
       "      <th></th>\n",
       "      <th>0</th>\n",
       "      <th>1</th>\n",
       "      <th>2</th>\n",
       "      <th>3</th>\n",
       "      <th>4</th>\n",
       "      <th>5</th>\n",
       "      <th>6</th>\n",
       "      <th>7</th>\n",
       "      <th>8</th>\n",
       "      <th>9</th>\n",
       "      <th>...</th>\n",
       "      <th>1323</th>\n",
       "      <th>1324</th>\n",
       "      <th>1325</th>\n",
       "      <th>1326</th>\n",
       "      <th>1327</th>\n",
       "      <th>1328</th>\n",
       "      <th>1329</th>\n",
       "      <th>1330</th>\n",
       "      <th>1331</th>\n",
       "      <th>1332</th>\n",
       "    </tr>\n",
       "  </thead>\n",
       "  <tbody>\n",
       "    <tr>\n",
       "      <th>0</th>\n",
       "      <td>1</td>\n",
       "      <td>0</td>\n",
       "      <td>1</td>\n",
       "      <td>1</td>\n",
       "      <td>1</td>\n",
       "      <td>0</td>\n",
       "      <td>0</td>\n",
       "      <td>0</td>\n",
       "      <td>0</td>\n",
       "      <td>0</td>\n",
       "      <td>...</td>\n",
       "      <td>1</td>\n",
       "      <td>0</td>\n",
       "      <td>0</td>\n",
       "      <td>0</td>\n",
       "      <td>0</td>\n",
       "      <td>1</td>\n",
       "      <td>1</td>\n",
       "      <td>0</td>\n",
       "      <td>0</td>\n",
       "      <td>1</td>\n",
       "    </tr>\n",
       "    <tr>\n",
       "      <th>1</th>\n",
       "      <td>1</td>\n",
       "      <td>1</td>\n",
       "      <td>1</td>\n",
       "      <td>1</td>\n",
       "      <td>1</td>\n",
       "      <td>0</td>\n",
       "      <td>1</td>\n",
       "      <td>0</td>\n",
       "      <td>0</td>\n",
       "      <td>0</td>\n",
       "      <td>...</td>\n",
       "      <td>0</td>\n",
       "      <td>0</td>\n",
       "      <td>1</td>\n",
       "      <td>0</td>\n",
       "      <td>0</td>\n",
       "      <td>1</td>\n",
       "      <td>1</td>\n",
       "      <td>0</td>\n",
       "      <td>1</td>\n",
       "      <td>0</td>\n",
       "    </tr>\n",
       "    <tr>\n",
       "      <th>2</th>\n",
       "      <td>1</td>\n",
       "      <td>1</td>\n",
       "      <td>1</td>\n",
       "      <td>1</td>\n",
       "      <td>1</td>\n",
       "      <td>0</td>\n",
       "      <td>1</td>\n",
       "      <td>0</td>\n",
       "      <td>0</td>\n",
       "      <td>0</td>\n",
       "      <td>...</td>\n",
       "      <td>0</td>\n",
       "      <td>0</td>\n",
       "      <td>1</td>\n",
       "      <td>0</td>\n",
       "      <td>0</td>\n",
       "      <td>1</td>\n",
       "      <td>1</td>\n",
       "      <td>0</td>\n",
       "      <td>1</td>\n",
       "      <td>0</td>\n",
       "    </tr>\n",
       "    <tr>\n",
       "      <th>3</th>\n",
       "      <td>0</td>\n",
       "      <td>1</td>\n",
       "      <td>1</td>\n",
       "      <td>0</td>\n",
       "      <td>0</td>\n",
       "      <td>0</td>\n",
       "      <td>0</td>\n",
       "      <td>0</td>\n",
       "      <td>0</td>\n",
       "      <td>0</td>\n",
       "      <td>...</td>\n",
       "      <td>1</td>\n",
       "      <td>0</td>\n",
       "      <td>1</td>\n",
       "      <td>0</td>\n",
       "      <td>0</td>\n",
       "      <td>1</td>\n",
       "      <td>1</td>\n",
       "      <td>0</td>\n",
       "      <td>1</td>\n",
       "      <td>1</td>\n",
       "    </tr>\n",
       "    <tr>\n",
       "      <th>4</th>\n",
       "      <td>1</td>\n",
       "      <td>0</td>\n",
       "      <td>1</td>\n",
       "      <td>1</td>\n",
       "      <td>1</td>\n",
       "      <td>0</td>\n",
       "      <td>1</td>\n",
       "      <td>0</td>\n",
       "      <td>0</td>\n",
       "      <td>0</td>\n",
       "      <td>...</td>\n",
       "      <td>0</td>\n",
       "      <td>0</td>\n",
       "      <td>0</td>\n",
       "      <td>0</td>\n",
       "      <td>0</td>\n",
       "      <td>1</td>\n",
       "      <td>1</td>\n",
       "      <td>1</td>\n",
       "      <td>1</td>\n",
       "      <td>0</td>\n",
       "    </tr>\n",
       "  </tbody>\n",
       "</table>\n",
       "<p>5 rows × 1333 columns</p>\n",
       "</div>"
      ],
      "text/plain": [
       "   0     1     2     3     4     5     6     7     8     9     ...   1323  \\\n",
       "0     1     0     1     1     1     0     0     0     0     0  ...      1   \n",
       "1     1     1     1     1     1     0     1     0     0     0  ...      0   \n",
       "2     1     1     1     1     1     0     1     0     0     0  ...      0   \n",
       "3     0     1     1     0     0     0     0     0     0     0  ...      1   \n",
       "4     1     0     1     1     1     0     1     0     0     0  ...      0   \n",
       "\n",
       "   1324  1325  1326  1327  1328  1329  1330  1331  1332  \n",
       "0     0     0     0     0     1     1     0     0     1  \n",
       "1     0     1     0     0     1     1     0     1     0  \n",
       "2     0     1     0     0     1     1     0     1     0  \n",
       "3     0     1     0     0     1     1     0     1     1  \n",
       "4     0     0     0     0     1     1     1     1     0  \n",
       "\n",
       "[5 rows x 1333 columns]"
      ]
     },
     "execution_count": 234,
     "metadata": {},
     "output_type": "execute_result"
    }
   ],
   "source": [
    "genotype = genotype.T\n",
    "genotype.head()"
   ]
  },
  {
   "cell_type": "code",
   "execution_count": 235,
   "metadata": {
    "collapsed": false,
    "deletable": true,
    "editable": true
   },
   "outputs": [
    {
     "name": "stdout",
     "output_type": "stream",
     "text": [
      "('Coefficients: \\n', array([[  1.87073284e+12,  -1.44109959e+12,   3.57119851e+12, ...,\n",
      "          9.83531746e+10,  -2.36548513e+11,   1.00121643e+11]]))\n",
      "('Mean squared error:', 0    0.033588\n",
      "dtype: float64)\n",
      "Variance score: 0.96580\n"
     ]
    }
   ],
   "source": [
    "# Create linear regression object\n",
    "regr = linear_model.LinearRegression()\n",
    "\n",
    "regr.fit(genotype, phenotype)\n",
    "\n",
    "# The coefficients\n",
    "print('Coefficients: \\n', regr.coef_)\n",
    "# The mean squared error\n",
    "error = np.mean((regr.predict(genotype) - phenotype) ** 2)\n",
    "print(\"Mean squared error:\", error.head())\n",
    "# Explained variance score: 1 is perfect prediction\n",
    "print('Variance score: %.5f' % regr.score(genotype, phenotype))\n"
   ]
  },
  {
   "cell_type": "code",
   "execution_count": 236,
   "metadata": {
    "collapsed": true
   },
   "outputs": [],
   "source": [
    "from sklearn.linear_model import Ridge"
   ]
  },
  {
   "cell_type": "code",
   "execution_count": 237,
   "metadata": {
    "collapsed": false
   },
   "outputs": [
    {
     "data": {
      "text/plain": [
       "Ridge(alpha=1.0, copy_X=True, fit_intercept=True, max_iter=None,\n",
       "   normalize=False, random_state=None, solver='auto', tol=0.001)"
      ]
     },
     "execution_count": 237,
     "metadata": {},
     "output_type": "execute_result"
    }
   ],
   "source": [
    "clf = Ridge(alpha=1.0)\n",
    "clf.fit(genotype, phenotype) \n",
    "Ridge(alpha=1.0, copy_X=True, fit_intercept=True, max_iter=None,\n",
    "      normalize=False, random_state=None, solver='auto', tol=0.001)"
   ]
  },
  {
   "cell_type": "markdown",
   "metadata": {},
   "source": [
    "## Question 3"
   ]
  },
  {
   "cell_type": "code",
   "execution_count": 238,
   "metadata": {
    "collapsed": false
   },
   "outputs": [],
   "source": [
    "labels = pd.read_csv(\"/Users/Sundipta/Downloads/nci.info.txt\", sep = \"\\t\", header = None)\n",
    "data = pd.read_csv(\"/Users/Sundipta/Downloads/nci.data.txt\", delim_whitespace=True, header = None)"
   ]
  },
  {
   "cell_type": "code",
   "execution_count": 239,
   "metadata": {
    "collapsed": false
   },
   "outputs": [],
   "source": [
    "labels = labels[7:]"
   ]
  },
  {
   "cell_type": "code",
   "execution_count": 240,
   "metadata": {
    "collapsed": false
   },
   "outputs": [],
   "source": [
    "data=data.T"
   ]
  },
  {
   "cell_type": "code",
   "execution_count": 249,
   "metadata": {
    "collapsed": false
   },
   "outputs": [
    {
     "data": {
      "text/html": [
       "<div>\n",
       "<table border=\"1\" class=\"dataframe\">\n",
       "  <thead>\n",
       "    <tr style=\"text-align: right;\">\n",
       "      <th></th>\n",
       "      <th>0</th>\n",
       "      <th>1</th>\n",
       "      <th>2</th>\n",
       "      <th>3</th>\n",
       "      <th>4</th>\n",
       "      <th>5</th>\n",
       "      <th>6</th>\n",
       "      <th>7</th>\n",
       "      <th>8</th>\n",
       "      <th>9</th>\n",
       "      <th>...</th>\n",
       "      <th>6820</th>\n",
       "      <th>6821</th>\n",
       "      <th>6822</th>\n",
       "      <th>6823</th>\n",
       "      <th>6824</th>\n",
       "      <th>6825</th>\n",
       "      <th>6826</th>\n",
       "      <th>6827</th>\n",
       "      <th>6828</th>\n",
       "      <th>6829</th>\n",
       "    </tr>\n",
       "  </thead>\n",
       "  <tbody>\n",
       "    <tr>\n",
       "      <th>0</th>\n",
       "      <td>0.300000</td>\n",
       "      <td>1.180000</td>\n",
       "      <td>0.550000</td>\n",
       "      <td>1.140000</td>\n",
       "      <td>-0.265000</td>\n",
       "      <td>-7.000000e-02</td>\n",
       "      <td>0.350000</td>\n",
       "      <td>-0.315000</td>\n",
       "      <td>-0.450000</td>\n",
       "      <td>-0.654981</td>\n",
       "      <td>...</td>\n",
       "      <td>-0.990019</td>\n",
       "      <td>0.000000</td>\n",
       "      <td>0.030000</td>\n",
       "      <td>-0.175000</td>\n",
       "      <td>0.629981</td>\n",
       "      <td>-0.030000</td>\n",
       "      <td>0.000000</td>\n",
       "      <td>0.280000</td>\n",
       "      <td>-0.340000</td>\n",
       "      <td>-1.930000</td>\n",
       "    </tr>\n",
       "    <tr>\n",
       "      <th>1</th>\n",
       "      <td>0.679961</td>\n",
       "      <td>1.289961</td>\n",
       "      <td>0.169961</td>\n",
       "      <td>0.379961</td>\n",
       "      <td>0.464961</td>\n",
       "      <td>5.799610e-01</td>\n",
       "      <td>0.699961</td>\n",
       "      <td>0.724961</td>\n",
       "      <td>-0.040039</td>\n",
       "      <td>-0.285020</td>\n",
       "      <td>...</td>\n",
       "      <td>-0.270058</td>\n",
       "      <td>-0.300039</td>\n",
       "      <td>-0.250039</td>\n",
       "      <td>-0.535039</td>\n",
       "      <td>0.109941</td>\n",
       "      <td>-0.860039</td>\n",
       "      <td>-1.250049</td>\n",
       "      <td>-0.770039</td>\n",
       "      <td>-0.390039</td>\n",
       "      <td>-2.000039</td>\n",
       "    </tr>\n",
       "    <tr>\n",
       "      <th>2</th>\n",
       "      <td>0.940000</td>\n",
       "      <td>-0.040000</td>\n",
       "      <td>-0.170000</td>\n",
       "      <td>-0.040000</td>\n",
       "      <td>-0.605000</td>\n",
       "      <td>0.000000e+00</td>\n",
       "      <td>0.090000</td>\n",
       "      <td>0.645000</td>\n",
       "      <td>0.430000</td>\n",
       "      <td>0.475019</td>\n",
       "      <td>...</td>\n",
       "      <td>0.319981</td>\n",
       "      <td>0.120000</td>\n",
       "      <td>-0.740000</td>\n",
       "      <td>-0.595000</td>\n",
       "      <td>-0.270020</td>\n",
       "      <td>-0.150000</td>\n",
       "      <td>0.000000</td>\n",
       "      <td>-0.120000</td>\n",
       "      <td>-0.410000</td>\n",
       "      <td>0.000000</td>\n",
       "    </tr>\n",
       "    <tr>\n",
       "      <th>3</th>\n",
       "      <td>0.280000</td>\n",
       "      <td>-0.310000</td>\n",
       "      <td>0.680000</td>\n",
       "      <td>-0.810000</td>\n",
       "      <td>0.625000</td>\n",
       "      <td>-1.387779e-17</td>\n",
       "      <td>0.170000</td>\n",
       "      <td>0.245000</td>\n",
       "      <td>0.020000</td>\n",
       "      <td>0.095019</td>\n",
       "      <td>...</td>\n",
       "      <td>-1.240020</td>\n",
       "      <td>-0.110000</td>\n",
       "      <td>-0.160000</td>\n",
       "      <td>0.095000</td>\n",
       "      <td>-0.350020</td>\n",
       "      <td>-0.300000</td>\n",
       "      <td>-1.150010</td>\n",
       "      <td>1.090000</td>\n",
       "      <td>-0.260000</td>\n",
       "      <td>-1.100000</td>\n",
       "    </tr>\n",
       "    <tr>\n",
       "      <th>4</th>\n",
       "      <td>0.485000</td>\n",
       "      <td>-0.465000</td>\n",
       "      <td>0.395000</td>\n",
       "      <td>0.905000</td>\n",
       "      <td>0.200000</td>\n",
       "      <td>-5.000000e-03</td>\n",
       "      <td>0.085000</td>\n",
       "      <td>0.110000</td>\n",
       "      <td>0.235000</td>\n",
       "      <td>1.490019</td>\n",
       "      <td>...</td>\n",
       "      <td>0.554980</td>\n",
       "      <td>-0.775000</td>\n",
       "      <td>-0.515000</td>\n",
       "      <td>-0.320000</td>\n",
       "      <td>0.634980</td>\n",
       "      <td>0.605000</td>\n",
       "      <td>0.000000</td>\n",
       "      <td>0.745000</td>\n",
       "      <td>0.425000</td>\n",
       "      <td>0.145000</td>\n",
       "    </tr>\n",
       "  </tbody>\n",
       "</table>\n",
       "<p>5 rows × 6830 columns</p>\n",
       "</div>"
      ],
      "text/plain": [
       "       0         1         2         3         4             5         6     \\\n",
       "0  0.300000  1.180000  0.550000  1.140000 -0.265000 -7.000000e-02  0.350000   \n",
       "1  0.679961  1.289961  0.169961  0.379961  0.464961  5.799610e-01  0.699961   \n",
       "2  0.940000 -0.040000 -0.170000 -0.040000 -0.605000  0.000000e+00  0.090000   \n",
       "3  0.280000 -0.310000  0.680000 -0.810000  0.625000 -1.387779e-17  0.170000   \n",
       "4  0.485000 -0.465000  0.395000  0.905000  0.200000 -5.000000e-03  0.085000   \n",
       "\n",
       "       7         8         9       ...         6820      6821      6822  \\\n",
       "0 -0.315000 -0.450000 -0.654981    ...    -0.990019  0.000000  0.030000   \n",
       "1  0.724961 -0.040039 -0.285020    ...    -0.270058 -0.300039 -0.250039   \n",
       "2  0.645000  0.430000  0.475019    ...     0.319981  0.120000 -0.740000   \n",
       "3  0.245000  0.020000  0.095019    ...    -1.240020 -0.110000 -0.160000   \n",
       "4  0.110000  0.235000  1.490019    ...     0.554980 -0.775000 -0.515000   \n",
       "\n",
       "       6823      6824      6825      6826      6827      6828      6829  \n",
       "0 -0.175000  0.629981 -0.030000  0.000000  0.280000 -0.340000 -1.930000  \n",
       "1 -0.535039  0.109941 -0.860039 -1.250049 -0.770039 -0.390039 -2.000039  \n",
       "2 -0.595000 -0.270020 -0.150000  0.000000 -0.120000 -0.410000  0.000000  \n",
       "3  0.095000 -0.350020 -0.300000 -1.150010  1.090000 -0.260000 -1.100000  \n",
       "4 -0.320000  0.634980  0.605000  0.000000  0.745000  0.425000  0.145000  \n",
       "\n",
       "[5 rows x 6830 columns]"
      ]
     },
     "execution_count": 249,
     "metadata": {},
     "output_type": "execute_result"
    }
   ],
   "source": [
    "data.head()"
   ]
  },
  {
   "cell_type": "code",
   "execution_count": 242,
   "metadata": {
    "collapsed": false
   },
   "outputs": [],
   "source": [
    "from sklearn.cluster import KMeans\n",
    "kmeans = KMeans(n_clusters=14, random_state=0).fit(data)"
   ]
  },
  {
   "cell_type": "code",
   "execution_count": 243,
   "metadata": {
    "collapsed": false
   },
   "outputs": [
    {
     "data": {
      "text/plain": [
       "PCA(copy=True, iterated_power='auto', n_components=2, random_state=None,\n",
       "  svd_solver='auto', tol=0.0, whiten=False)"
      ]
     },
     "execution_count": 243,
     "metadata": {},
     "output_type": "execute_result"
    }
   ],
   "source": [
    "from sklearn.decomposition import PCA\n",
    "pca = PCA(n_components=2)\n",
    "pca.fit(data)"
   ]
  },
  {
   "cell_type": "code",
   "execution_count": 244,
   "metadata": {
    "collapsed": false
   },
   "outputs": [
    {
     "name": "stdout",
     "output_type": "stream",
     "text": [
      "[ 0.14892938  0.08300699]\n"
     ]
    }
   ],
   "source": [
    "print(pca.explained_variance_ratio_) "
   ]
  },
  {
   "cell_type": "code",
   "execution_count": 245,
   "metadata": {
    "collapsed": false
   },
   "outputs": [
    {
     "data": {
      "text/plain": [
       "array([[ -5.09624387e-03,  -1.64234854e-03,  -2.50924199e-03, ...,\n",
       "         -4.70525378e-05,   6.60722209e-03,   1.77413047e-02],\n",
       "       [ -9.83714980e-04,  -3.43514081e-03,   1.58390197e-03, ...,\n",
       "         -8.74178939e-03,  -3.05924190e-03,   9.50830191e-04]])"
      ]
     },
     "execution_count": 245,
     "metadata": {},
     "output_type": "execute_result"
    }
   ],
   "source": [
    "pca.components_ "
   ]
  },
  {
   "cell_type": "code",
   "execution_count": 246,
   "metadata": {
    "collapsed": false
   },
   "outputs": [],
   "source": [
    "pca_df = pd.DataFrame(pca.components_)"
   ]
  },
  {
   "cell_type": "code",
   "execution_count": 247,
   "metadata": {
    "collapsed": false
   },
   "outputs": [
    {
     "data": {
      "text/html": [
       "<div>\n",
       "<table border=\"1\" class=\"dataframe\">\n",
       "  <thead>\n",
       "    <tr style=\"text-align: right;\">\n",
       "      <th></th>\n",
       "      <th>0</th>\n",
       "      <th>1</th>\n",
       "    </tr>\n",
       "  </thead>\n",
       "  <tbody>\n",
       "    <tr>\n",
       "      <th>0</th>\n",
       "      <td>-0.005096</td>\n",
       "      <td>-0.000984</td>\n",
       "    </tr>\n",
       "    <tr>\n",
       "      <th>1</th>\n",
       "      <td>-0.001642</td>\n",
       "      <td>-0.003435</td>\n",
       "    </tr>\n",
       "    <tr>\n",
       "      <th>2</th>\n",
       "      <td>-0.002509</td>\n",
       "      <td>0.001584</td>\n",
       "    </tr>\n",
       "    <tr>\n",
       "      <th>3</th>\n",
       "      <td>0.004940</td>\n",
       "      <td>-0.007843</td>\n",
       "    </tr>\n",
       "    <tr>\n",
       "      <th>4</th>\n",
       "      <td>-0.003365</td>\n",
       "      <td>0.000268</td>\n",
       "    </tr>\n",
       "  </tbody>\n",
       "</table>\n",
       "</div>"
      ],
      "text/plain": [
       "          0         1\n",
       "0 -0.005096 -0.000984\n",
       "1 -0.001642 -0.003435\n",
       "2 -0.002509  0.001584\n",
       "3  0.004940 -0.007843\n",
       "4 -0.003365  0.000268"
      ]
     },
     "execution_count": 247,
     "metadata": {},
     "output_type": "execute_result"
    }
   ],
   "source": [
    "pca_df = pca_df.T\n",
    "pca_df.head()"
   ]
  },
  {
   "cell_type": "code",
   "execution_count": 248,
   "metadata": {
    "collapsed": false
   },
   "outputs": [
    {
     "data": {
      "text/plain": [
       "<matplotlib.axes._subplots.AxesSubplot at 0x11ae85850>"
      ]
     },
     "execution_count": 248,
     "metadata": {},
     "output_type": "execute_result"
    },
    {
     "data": {
      "image/png": "[encoded data removed]",
      "text/plain": [
       "<matplotlib.figure.Figure at 0x119996450>"
      ]
     },
     "metadata": {},
     "output_type": "display_data"
    }
   ],
   "source": [
    "pca_df.plot()"
   ]
  },
  {
   "cell_type": "markdown",
   "metadata": {},
   "source": [
    "Not very separable. "
   ]
  }
 ],
 "metadata": {
  "kernelspec": {
   "display_name": "Python 2",
   "language": "python",
   "name": "python2"
  },
  "language_info": {
   "codemirror_mode": {
    "name": "ipython",
    "version": 2
   },
   "file_extension": ".py",
   "mimetype": "text/x-python",
   "name": "python",
   "nbconvert_exporter": "python",
   "pygments_lexer": "ipython2",
   "version": "2.7.13"
  }
 },
 "nbformat": 4,
 "nbformat_minor": 2
}
