{
 "cells": [
  {
   "cell_type": "code",
   "execution_count": 1,
   "metadata": {},
   "outputs": [],
   "source": [
    "import pandas as pd\n",
    "import numpy as np\n",
    "import matplotlib\n",
    "#matplotlib.use('Agg')\n",
    "import matplotlib.pyplot as plt\n",
    "%matplotlib inline"
   ]
  },
  {
   "cell_type": "code",
   "execution_count": 3,
   "metadata": {},
   "outputs": [],
   "source": [
    "data = pd.read_csv(\"/Users/Sundipta/Desktop/180124/180124_ty2_processed.csv\")"
   ]
  },
  {
   "cell_type": "code",
   "execution_count": 4,
   "metadata": {},
   "outputs": [
    {
     "data": {
      "text/html": [
       "<div>\n",
       "<style>\n",
       "    .dataframe thead tr:only-child th {\n",
       "        text-align: right;\n",
       "    }\n",
       "\n",
       "    .dataframe thead th {\n",
       "        text-align: left;\n",
       "    }\n",
       "\n",
       "    .dataframe tbody tr th {\n",
       "        vertical-align: top;\n",
       "    }\n",
       "</style>\n",
       "<table border=\"1\" class=\"dataframe\">\n",
       "  <thead>\n",
       "    <tr style=\"text-align: right;\">\n",
       "      <th></th>\n",
       "      <th>Unnamed: 0</th>\n",
       "      <th>Time</th>\n",
       "      <th>B1</th>\n",
       "      <th>B2</th>\n",
       "      <th>B3</th>\n",
       "      <th>B4</th>\n",
       "      <th>B5</th>\n",
       "      <th>B6</th>\n",
       "      <th>B7</th>\n",
       "      <th>B8</th>\n",
       "      <th>Time_secs</th>\n",
       "    </tr>\n",
       "  </thead>\n",
       "  <tbody>\n",
       "    <tr>\n",
       "      <th>132</th>\n",
       "      <td>132</td>\n",
       "      <td>1:40:00</td>\n",
       "      <td>1160010</td>\n",
       "      <td>43950</td>\n",
       "      <td>125914</td>\n",
       "      <td>163112</td>\n",
       "      <td>191585</td>\n",
       "      <td>52570</td>\n",
       "      <td>87526</td>\n",
       "      <td>88361</td>\n",
       "      <td>7800.0</td>\n",
       "    </tr>\n",
       "    <tr>\n",
       "      <th>133</th>\n",
       "      <td>133</td>\n",
       "      <td>1:41:00</td>\n",
       "      <td>1156380</td>\n",
       "      <td>43989</td>\n",
       "      <td>125430</td>\n",
       "      <td>163540</td>\n",
       "      <td>192823</td>\n",
       "      <td>52625</td>\n",
       "      <td>87702</td>\n",
       "      <td>88116</td>\n",
       "      <td>7860.0</td>\n",
       "    </tr>\n",
       "    <tr>\n",
       "      <th>134</th>\n",
       "      <td>134</td>\n",
       "      <td>1:42:00</td>\n",
       "      <td>1156920</td>\n",
       "      <td>44081</td>\n",
       "      <td>126188</td>\n",
       "      <td>163713</td>\n",
       "      <td>191194</td>\n",
       "      <td>52778</td>\n",
       "      <td>87726</td>\n",
       "      <td>88229</td>\n",
       "      <td>7920.0</td>\n",
       "    </tr>\n",
       "    <tr>\n",
       "      <th>135</th>\n",
       "      <td>135</td>\n",
       "      <td>1:43:00</td>\n",
       "      <td>1154833</td>\n",
       "      <td>44210</td>\n",
       "      <td>126000</td>\n",
       "      <td>164026</td>\n",
       "      <td>190739</td>\n",
       "      <td>52678</td>\n",
       "      <td>87714</td>\n",
       "      <td>88466</td>\n",
       "      <td>7980.0</td>\n",
       "    </tr>\n",
       "    <tr>\n",
       "      <th>136</th>\n",
       "      <td>136</td>\n",
       "      <td>1:44:00</td>\n",
       "      <td>1160921</td>\n",
       "      <td>43942</td>\n",
       "      <td>126686</td>\n",
       "      <td>164126</td>\n",
       "      <td>191339</td>\n",
       "      <td>52580</td>\n",
       "      <td>87613</td>\n",
       "      <td>88466</td>\n",
       "      <td>8040.0</td>\n",
       "    </tr>\n",
       "  </tbody>\n",
       "</table>\n",
       "</div>"
      ],
      "text/plain": [
       "     Unnamed: 0     Time       B1     B2      B3      B4      B5     B6  \\\n",
       "132         132  1:40:00  1160010  43950  125914  163112  191585  52570   \n",
       "133         133  1:41:00  1156380  43989  125430  163540  192823  52625   \n",
       "134         134  1:42:00  1156920  44081  126188  163713  191194  52778   \n",
       "135         135  1:43:00  1154833  44210  126000  164026  190739  52678   \n",
       "136         136  1:44:00  1160921  43942  126686  164126  191339  52580   \n",
       "\n",
       "        B7     B8  Time_secs  \n",
       "132  87526  88361     7800.0  \n",
       "133  87702  88116     7860.0  \n",
       "134  87726  88229     7920.0  \n",
       "135  87714  88466     7980.0  \n",
       "136  87613  88466     8040.0  "
      ]
     },
     "execution_count": 4,
     "metadata": {},
     "output_type": "execute_result"
    }
   ],
   "source": [
    "data.tail()"
   ]
  },
  {
   "cell_type": "code",
   "execution_count": 5,
   "metadata": {},
   "outputs": [],
   "source": [
    "data[\"Time_min\"] = data[\"Time_secs\"]/(60)"
   ]
  },
  {
   "cell_type": "code",
   "execution_count": 6,
   "metadata": {},
   "outputs": [
    {
     "data": {
      "text/html": [
       "<div>\n",
       "<style>\n",
       "    .dataframe thead tr:only-child th {\n",
       "        text-align: right;\n",
       "    }\n",
       "\n",
       "    .dataframe thead th {\n",
       "        text-align: left;\n",
       "    }\n",
       "\n",
       "    .dataframe tbody tr th {\n",
       "        vertical-align: top;\n",
       "    }\n",
       "</style>\n",
       "<table border=\"1\" class=\"dataframe\">\n",
       "  <thead>\n",
       "    <tr style=\"text-align: right;\">\n",
       "      <th></th>\n",
       "      <th>Unnamed: 0</th>\n",
       "      <th>Time</th>\n",
       "      <th>B1</th>\n",
       "      <th>B2</th>\n",
       "      <th>B3</th>\n",
       "      <th>B4</th>\n",
       "      <th>B5</th>\n",
       "      <th>B6</th>\n",
       "      <th>B7</th>\n",
       "      <th>B8</th>\n",
       "      <th>Time_secs</th>\n",
       "      <th>Time_min</th>\n",
       "    </tr>\n",
       "  </thead>\n",
       "  <tbody>\n",
       "    <tr>\n",
       "      <th>127</th>\n",
       "      <td>127</td>\n",
       "      <td>1:35:00</td>\n",
       "      <td>1152769</td>\n",
       "      <td>43885</td>\n",
       "      <td>125147</td>\n",
       "      <td>162835</td>\n",
       "      <td>190172</td>\n",
       "      <td>52368</td>\n",
       "      <td>87727</td>\n",
       "      <td>88362</td>\n",
       "      <td>7500.0</td>\n",
       "      <td>125.0</td>\n",
       "    </tr>\n",
       "    <tr>\n",
       "      <th>128</th>\n",
       "      <td>128</td>\n",
       "      <td>1:36:00</td>\n",
       "      <td>1157795</td>\n",
       "      <td>43885</td>\n",
       "      <td>126104</td>\n",
       "      <td>163652</td>\n",
       "      <td>189950</td>\n",
       "      <td>52320</td>\n",
       "      <td>87496</td>\n",
       "      <td>88533</td>\n",
       "      <td>7560.0</td>\n",
       "      <td>126.0</td>\n",
       "    </tr>\n",
       "    <tr>\n",
       "      <th>129</th>\n",
       "      <td>129</td>\n",
       "      <td>1:37:00</td>\n",
       "      <td>1152706</td>\n",
       "      <td>43972</td>\n",
       "      <td>125906</td>\n",
       "      <td>163190</td>\n",
       "      <td>191383</td>\n",
       "      <td>52479</td>\n",
       "      <td>87190</td>\n",
       "      <td>88389</td>\n",
       "      <td>7620.0</td>\n",
       "      <td>127.0</td>\n",
       "    </tr>\n",
       "    <tr>\n",
       "      <th>130</th>\n",
       "      <td>130</td>\n",
       "      <td>1:38:00</td>\n",
       "      <td>1158151</td>\n",
       "      <td>43970</td>\n",
       "      <td>127011</td>\n",
       "      <td>163101</td>\n",
       "      <td>190399</td>\n",
       "      <td>52326</td>\n",
       "      <td>87935</td>\n",
       "      <td>88343</td>\n",
       "      <td>7680.0</td>\n",
       "      <td>128.0</td>\n",
       "    </tr>\n",
       "    <tr>\n",
       "      <th>131</th>\n",
       "      <td>131</td>\n",
       "      <td>1:39:00</td>\n",
       "      <td>1160287</td>\n",
       "      <td>43884</td>\n",
       "      <td>126029</td>\n",
       "      <td>163797</td>\n",
       "      <td>191265</td>\n",
       "      <td>52537</td>\n",
       "      <td>87443</td>\n",
       "      <td>88008</td>\n",
       "      <td>7740.0</td>\n",
       "      <td>129.0</td>\n",
       "    </tr>\n",
       "    <tr>\n",
       "      <th>132</th>\n",
       "      <td>132</td>\n",
       "      <td>1:40:00</td>\n",
       "      <td>1160010</td>\n",
       "      <td>43950</td>\n",
       "      <td>125914</td>\n",
       "      <td>163112</td>\n",
       "      <td>191585</td>\n",
       "      <td>52570</td>\n",
       "      <td>87526</td>\n",
       "      <td>88361</td>\n",
       "      <td>7800.0</td>\n",
       "      <td>130.0</td>\n",
       "    </tr>\n",
       "    <tr>\n",
       "      <th>133</th>\n",
       "      <td>133</td>\n",
       "      <td>1:41:00</td>\n",
       "      <td>1156380</td>\n",
       "      <td>43989</td>\n",
       "      <td>125430</td>\n",
       "      <td>163540</td>\n",
       "      <td>192823</td>\n",
       "      <td>52625</td>\n",
       "      <td>87702</td>\n",
       "      <td>88116</td>\n",
       "      <td>7860.0</td>\n",
       "      <td>131.0</td>\n",
       "    </tr>\n",
       "    <tr>\n",
       "      <th>134</th>\n",
       "      <td>134</td>\n",
       "      <td>1:42:00</td>\n",
       "      <td>1156920</td>\n",
       "      <td>44081</td>\n",
       "      <td>126188</td>\n",
       "      <td>163713</td>\n",
       "      <td>191194</td>\n",
       "      <td>52778</td>\n",
       "      <td>87726</td>\n",
       "      <td>88229</td>\n",
       "      <td>7920.0</td>\n",
       "      <td>132.0</td>\n",
       "    </tr>\n",
       "    <tr>\n",
       "      <th>135</th>\n",
       "      <td>135</td>\n",
       "      <td>1:43:00</td>\n",
       "      <td>1154833</td>\n",
       "      <td>44210</td>\n",
       "      <td>126000</td>\n",
       "      <td>164026</td>\n",
       "      <td>190739</td>\n",
       "      <td>52678</td>\n",
       "      <td>87714</td>\n",
       "      <td>88466</td>\n",
       "      <td>7980.0</td>\n",
       "      <td>133.0</td>\n",
       "    </tr>\n",
       "    <tr>\n",
       "      <th>136</th>\n",
       "      <td>136</td>\n",
       "      <td>1:44:00</td>\n",
       "      <td>1160921</td>\n",
       "      <td>43942</td>\n",
       "      <td>126686</td>\n",
       "      <td>164126</td>\n",
       "      <td>191339</td>\n",
       "      <td>52580</td>\n",
       "      <td>87613</td>\n",
       "      <td>88466</td>\n",
       "      <td>8040.0</td>\n",
       "      <td>134.0</td>\n",
       "    </tr>\n",
       "  </tbody>\n",
       "</table>\n",
       "</div>"
      ],
      "text/plain": [
       "     Unnamed: 0     Time       B1     B2      B3      B4      B5     B6  \\\n",
       "127         127  1:35:00  1152769  43885  125147  162835  190172  52368   \n",
       "128         128  1:36:00  1157795  43885  126104  163652  189950  52320   \n",
       "129         129  1:37:00  1152706  43972  125906  163190  191383  52479   \n",
       "130         130  1:38:00  1158151  43970  127011  163101  190399  52326   \n",
       "131         131  1:39:00  1160287  43884  126029  163797  191265  52537   \n",
       "132         132  1:40:00  1160010  43950  125914  163112  191585  52570   \n",
       "133         133  1:41:00  1156380  43989  125430  163540  192823  52625   \n",
       "134         134  1:42:00  1156920  44081  126188  163713  191194  52778   \n",
       "135         135  1:43:00  1154833  44210  126000  164026  190739  52678   \n",
       "136         136  1:44:00  1160921  43942  126686  164126  191339  52580   \n",
       "\n",
       "        B7     B8  Time_secs  Time_min  \n",
       "127  87727  88362     7500.0     125.0  \n",
       "128  87496  88533     7560.0     126.0  \n",
       "129  87190  88389     7620.0     127.0  \n",
       "130  87935  88343     7680.0     128.0  \n",
       "131  87443  88008     7740.0     129.0  \n",
       "132  87526  88361     7800.0     130.0  \n",
       "133  87702  88116     7860.0     131.0  \n",
       "134  87726  88229     7920.0     132.0  \n",
       "135  87714  88466     7980.0     133.0  \n",
       "136  87613  88466     8040.0     134.0  "
      ]
     },
     "execution_count": 6,
     "metadata": {},
     "output_type": "execute_result"
    }
   ],
   "source": [
    "tail = data[-10:]\n",
    "tail.head(10)"
   ]
  },
  {
   "cell_type": "code",
   "execution_count": 7,
   "metadata": {},
   "outputs": [],
   "source": [
    "ty2_1 = tail['B2'].mean()\n",
    "ty2_2 = tail['B3'].mean()\n",
    "ty2_3 = tail['B4'].mean()\n",
    "ty2_4 = tail['B5'].mean()"
   ]
  },
  {
   "cell_type": "code",
   "execution_count": 8,
   "metadata": {},
   "outputs": [],
   "source": [
    "x = [0.0,0.5,0.75,1.0]\n",
    "y = [ty2_1, ty2_2, ty2_3, ty2_4]"
   ]
  },
  {
   "cell_type": "code",
   "execution_count": 9,
   "metadata": {},
   "outputs": [],
   "source": [
    "x1 = np.asarray(x)"
   ]
  },
  {
   "cell_type": "code",
   "execution_count": 10,
   "metadata": {},
   "outputs": [
    {
     "data": {
      "text/plain": [
       "[<matplotlib.lines.Line2D at 0x109c76a50>,\n",
       " <matplotlib.lines.Line2D at 0x109dbcad0>]"
      ]
     },
     "execution_count": 10,
     "metadata": {},
     "output_type": "execute_result"
    },
    {
     "data": {
      "image/png": "[encoded data removed]",
      "text/plain": [
       "<matplotlib.figure.Figure at 0x109ceb710>"
      ]
     },
     "metadata": {},
     "output_type": "display_data"
    }
   ],
   "source": [
    "fit = np.polyfit(x,y,1)\n",
    "fit_fn = np.poly1d(fit) \n",
    "# fit_fn is now a function which takes in x and returns an estimate for y\n",
    "\n",
    "plt.plot(x,y, 'yo', x, fit_fn(x), '--k')\n"
   ]
  },
  {
   "cell_type": "code",
   "execution_count": 11,
   "metadata": {},
   "outputs": [],
   "source": [
    "from scipy import stats\n",
    "slope, intercept, r_value, p_value, std_err = stats.linregress(x, y)"
   ]
  },
  {
   "cell_type": "code",
   "execution_count": 12,
   "metadata": {},
   "outputs": [
    {
     "name": "stdout",
     "output_type": "stream",
     "text": [
      "0.99379814836\n"
     ]
    }
   ],
   "source": [
    "print r_value**2"
   ]
  },
  {
   "cell_type": "code",
   "execution_count": 13,
   "metadata": {},
   "outputs": [
    {
     "data": {
      "image/png": "[encoded data removed]",
      "text/plain": [
       "<matplotlib.figure.Figure at 0x109e1a8d0>"
      ]
     },
     "metadata": {},
     "output_type": "display_data"
    }
   ],
   "source": [
    "\n",
    "plt.plot(x, y, 'o', label='original data')\n",
    "plt.plot(x,intercept + slope*x1 , 'r', label='fitted line')\n",
    "plt.legend()\n",
    "plt.show()"
   ]
  },
  {
   "cell_type": "code",
   "execution_count": 14,
   "metadata": {},
   "outputs": [
    {
     "data": {
      "text/plain": [
       "47177.365714285726"
      ]
     },
     "execution_count": 14,
     "metadata": {},
     "output_type": "execute_result"
    }
   ],
   "source": [
    "intercept"
   ]
  },
  {
   "cell_type": "code",
   "execution_count": 15,
   "metadata": {},
   "outputs": [
    {
     "data": {
      "text/plain": [
       "149290.19428571427"
      ]
     },
     "execution_count": 15,
     "metadata": {},
     "output_type": "execute_result"
    }
   ],
   "source": [
    "slope"
   ]
  },
  {
   "cell_type": "code",
   "execution_count": 16,
   "metadata": {},
   "outputs": [],
   "source": [
    "gate_only = tail['B6'].mean()\n",
    "gate_rep1 = tail['B7'].mean()\n",
    "gate_rep2 = tail['B8'].mean()"
   ]
  },
  {
   "cell_type": "code",
   "execution_count": 17,
   "metadata": {},
   "outputs": [],
   "source": [
    "avg_trig = (gate_rep1+gate_rep2)/2"
   ]
  },
  {
   "cell_type": "code",
   "execution_count": 18,
   "metadata": {},
   "outputs": [
    {
     "data": {
      "text/plain": [
       "0.27322547526229257"
      ]
     },
     "execution_count": 18,
     "metadata": {},
     "output_type": "execute_result"
    }
   ],
   "source": [
    "(avg_trig - intercept)/slope"
   ]
  },
  {
   "cell_type": "code",
   "execution_count": 19,
   "metadata": {},
   "outputs": [
    {
     "data": {
      "text/plain": [
       "0.21595915552237593"
      ]
     },
     "execution_count": 19,
     "metadata": {},
     "output_type": "execute_result"
    }
   ],
   "source": [
    "diff = avg_trig - gate_only\n",
    "(diff + ty2_1 - intercept)/slope"
   ]
  },
  {
   "cell_type": "code",
   "execution_count": 20,
   "metadata": {},
   "outputs": [
    {
     "data": {
      "text/plain": [
       "[<matplotlib.lines.Line2D at 0x10b9ee450>]"
      ]
     },
     "execution_count": 20,
     "metadata": {},
     "output_type": "execute_result"
    },
    {
     "data": {
      "image/png": "[encoded data removed]",
      "text/plain": [
       "<matplotlib.figure.Figure at 0x10bbdc9d0>"
      ]
     },
     "metadata": {},
     "output_type": "display_data"
    }
   ],
   "source": [
    "plt.plot(data['Time_secs'],data['B7'])"
   ]
  },
  {
   "cell_type": "code",
   "execution_count": null,
   "metadata": {},
   "outputs": [],
   "source": []
  }
 ],
 "metadata": {
  "kernelspec": {
   "display_name": "Python 2",
   "language": "python",
   "name": "python2"
  },
  "language_info": {
   "codemirror_mode": {
    "name": "ipython",
    "version": 2
   },
   "file_extension": ".py",
   "mimetype": "text/x-python",
   "name": "python",
   "nbconvert_exporter": "python",
   "pygments_lexer": "ipython2",
   "version": "2.7.13"
  }
 },
 "nbformat": 4,
 "nbformat_minor": 1
}
